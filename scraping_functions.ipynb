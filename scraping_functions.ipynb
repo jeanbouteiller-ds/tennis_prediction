{
  "cells": [
    {
      "cell_type": "markdown",
      "metadata": {
        "id": "view-in-github",
        "colab_type": "text"
      },
      "source": [
        "<a href=\"https://colab.research.google.com/github/jeanbouteiller-ds/tennis_prediction/blob/main/scraping_functions.ipynb\" target=\"_parent\"><img src=\"https://colab.research.google.com/assets/colab-badge.svg\" alt=\"Open In Colab\"/></a>"
      ]
    },
    {
      "cell_type": "code",
      "source": [
        "import subprocess\n",
        "import sys"
      ],
      "metadata": {
        "id": "V1g-E21RT8CO"
      },
      "execution_count": 1,
      "outputs": []
    },
    {
      "cell_type": "code",
      "execution_count": 2,
      "metadata": {
        "colab": {
          "base_uri": "https://localhost:8080/"
        },
        "id": "Gorg-TjzXeal",
        "outputId": "acaa80d1-6b8d-4165-ead9-7999ab347fbc"
      },
      "outputs": [
        {
          "output_type": "stream",
          "name": "stdout",
          "text": [
            "Successfully installed requests\n",
            "Successfully installed PyGitHub\n",
            "Successfully installed pandas\n"
          ]
        }
      ],
      "source": [
        "def install_package(package_name):\n",
        "    try:\n",
        "        subprocess.check_call([sys.executable, '-m', 'pip', 'install', package_name])\n",
        "        print(f\"Successfully installed {package_name}\")\n",
        "    except subprocess.CalledProcessError:\n",
        "        print(f\"Failed to install {package_name}\") # Install the PyGitHub library\n",
        "\n",
        "install_package(\"requests\")\n",
        "install_package(\"PyGitHub\")\n",
        "install_package(\"pandas\")"
      ]
    },
    {
      "cell_type": "code",
      "source": [
        "import requests\n",
        "import random\n",
        "from bs4 import BeautifulSoup\n",
        "\n",
        "from datetime import datetime, timedelta\n",
        "\n",
        "import os\n",
        "import io\n",
        "from github import Github\n",
        "\n",
        "import importlib.util\n",
        "import nbformat\n",
        "import pandas"
      ],
      "metadata": {
        "id": "4uiY8VTA6kN2"
      },
      "execution_count": 3,
      "outputs": []
    },
    {
      "cell_type": "code",
      "source": [
        "def parse_html_from_url(url):\n",
        "  \"\"\"\n",
        "  returns:\n",
        "    - a soup element with the html code corresponding to the url\n",
        "  \"\"\"\n",
        "\n",
        "  headers = {\n",
        "      'User-Agent': 'Your User Agent String Here'+str(random.random())\n",
        "  }\n",
        "\n",
        "  # Send an HTTP GET request with headers\n",
        "  response = requests.get(url, headers=headers)\n",
        "\n",
        "  # Check if the request was successful (status code 200)\n",
        "  if response.status_code == 200:\n",
        "      # Get the HTML content from the response\n",
        "      html_code = response.text\n",
        "  else:\n",
        "      html_code=''\n",
        "\n",
        "  soup = BeautifulSoup(html_code, 'html.parser')\n",
        "  return soup\n",
        "\n",
        "\n",
        "\n",
        "def html_elements_from_url(input_url,element_searched,element_names_list):\n",
        "  \"\"\"\n",
        "  input:\n",
        "  - input_url: url that is parsed\n",
        "  - element_searched: name of the element searched (eg: div, span, etc.)\n",
        "  - element_names_list: list of element_names that we want to extract\n",
        "\n",
        "  output:\n",
        "  - corresponding elements\n",
        "  \"\"\"\n",
        "\n",
        "  html_parsed=parse_html_from_url(input_url)\n",
        "  selected_elements={}\n",
        "\n",
        "  for element_name in element_names_list:\n",
        "    selected_elements[element_name] = html_parsed.find_all(element_searched, class_=element_name)\n",
        "\n",
        "  return (selected_elements)"
      ],
      "metadata": {
        "id": "B5zHUgeWVYHm"
      },
      "execution_count": null,
      "outputs": []
    }
  ],
  "metadata": {
    "colab": {
      "provenance": [],
      "mount_file_id": "1eKWlpyRPemghzmN8X1cYFW6MOJTJpUDm",
      "authorship_tag": "ABX9TyOpp17l4ptKnyL4HSkvHqms",
      "include_colab_link": true
    },
    "kernelspec": {
      "display_name": "Python 3",
      "name": "python3"
    },
    "language_info": {
      "name": "python"
    }
  },
  "nbformat": 4,
  "nbformat_minor": 0
}