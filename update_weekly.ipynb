{
  "nbformat": 4,
  "nbformat_minor": 0,
  "metadata": {
    "colab": {
      "provenance": [],
      "authorship_tag": "ABX9TyN2q/kcgqmqX3J8ImHxWAFC",
      "include_colab_link": true
    },
    "kernelspec": {
      "name": "python3",
      "display_name": "Python 3"
    },
    "language_info": {
      "name": "python"
    }
  },
  "cells": [
    {
      "cell_type": "markdown",
      "metadata": {
        "id": "view-in-github",
        "colab_type": "text"
      },
      "source": [
        "<a href=\"https://colab.research.google.com/github/jeanbouteiller-ds/tennis_prediction/blob/main/update_weekly.ipynb\" target=\"_parent\"><img src=\"https://colab.research.google.com/assets/colab-badge.svg\" alt=\"Open In Colab\"/></a>"
      ]
    },
    {
      "cell_type": "code",
      "source": [
        "import subprocess\n",
        "import sys\n",
        "\n",
        "def install_package(package_name):\n",
        "    try:\n",
        "        subprocess.check_call([sys.executable, '-m', 'pip', 'install', package_name])\n",
        "        print(f\"Successfully installed {package_name}\")\n",
        "    except subprocess.CalledProcessError:\n",
        "        print(f\"Failed to install {package_name}\") # Install the PyGitHub library\n",
        "\n",
        "install_package(\"requests\")\n",
        "install_package(\"PyGitHub\")\n",
        "install_package(\"pandas\")\n",
        "install_package(\"tqdm\")\n",
        "install_package(\"xlrd>=2.0.1\")\n",
        "install_package(\"openpyxl\")"
      ],
      "metadata": {
        "colab": {
          "base_uri": "https://localhost:8080/"
        },
        "id": "oHh3Jgp5dHP_",
        "outputId": "0c8380e2-d054-42b3-efa1-9b919e4388d7"
      },
      "execution_count": 7,
      "outputs": [
        {
          "output_type": "stream",
          "name": "stdout",
          "text": [
            "Successfully installed requests\n",
            "Successfully installed PyGitHub\n",
            "Successfully installed pandas\n",
            "Successfully installed tqdm\n",
            "Successfully installed xlrd>=2.0.1\n",
            "Successfully installed openpyxl\n"
          ]
        }
      ]
    },
    {
      "cell_type": "code",
      "source": [
        "import requests\n",
        "import io\n",
        "import importlib.util\n",
        "import sys\n",
        "import nbformat\n",
        "import pandas\n",
        "\n",
        "# Define the URL of the nb1 notebook on GitHub\n",
        "github_url = \"https://raw.githubusercontent.com/jeanbouteiller-ds/tennis_prediction/main/functions/functions_fixed_table.ipynb\"\n",
        "\n",
        "# Download the notebook as a raw .ipynb file\n",
        "response = requests.get(github_url)\n",
        "\n",
        "if response.status_code == 200:\n",
        "  notebook_content = response.text\n",
        "\n",
        "  # Parse the notebook content\n",
        "  notebook = nbformat.reads(notebook_content, as_version=4)\n",
        "\n",
        "  # Now you can execute the cells in the notebook\n",
        "  for cell in notebook.cells:\n",
        "      if cell.cell_type == 'code':\n",
        "          exec(cell.source)"
      ],
      "metadata": {
        "colab": {
          "base_uri": "https://localhost:8080/"
        },
        "id": "0GMw8_fEXOEX",
        "outputId": "bf406897-6a08-47c5-f245-7dc41e37a7f9"
      },
      "execution_count": 4,
      "outputs": [
        {
          "output_type": "stream",
          "name": "stdout",
          "text": [
            "Successfully installed requests\n",
            "Successfully installed requests\n",
            "Successfully installed PyGitHub\n",
            "Successfully installed pandas\n",
            "Successfully installed requests\n"
          ]
        }
      ]
    },
    {
      "cell_type": "markdown",
      "source": [
        "#Players Update"
      ],
      "metadata": {
        "id": "yiI7kdpaXany"
      }
    },
    {
      "cell_type": "code",
      "source": [
        "list_urls=get_file_content('data/list_all_urls.txt')\n",
        "list_player_names=get_file_content('data/list_all_players_names.txt')\n",
        "fixed_table=get_file_content('data/df_player_fixed.csv')\n",
        "\n",
        "url_ranking='https://www.atptour.com/en/rankings/singles?rankRange=1-200'\n",
        "\n",
        "list_player_names_new,list_urls_new=players_from_url(url_ranking)\n",
        "list_player_names_new=[k for k in list_player_names_new if k not in list_player_names]\n",
        "list_urls_new=[k for k in list_urls_new if k not in list_urls]\n",
        "\n",
        "df_new=create_new_fixed_table('', list_player_names_new, list_urls_new)"
      ],
      "metadata": {
        "id": "YYXRWNLXXg5Q"
      },
      "execution_count": null,
      "outputs": []
    },
    {
      "cell_type": "code",
      "source": [
        "import pandas as pd\n",
        "\n",
        "df_fixed_all=pd.concat([fixed_table,df_new])\n",
        "list_player_names_all=list_player_names_new+list_player_names\n",
        "list_urls_all=list_urls_new+list_urls\n",
        "\n",
        "add_file_github('data/list_all_urls.txt',str(list_urls_all))\n",
        "add_file_github('data/list_all_players_names.txt',str(list_player_names_all))\n",
        "add_file_github('data/df_player_fixed.csv',df_fixed_all.to_csv(index=False))\n"
      ],
      "metadata": {
        "id": "lSgxszRUXjzi"
      },
      "execution_count": null,
      "outputs": []
    },
    {
      "cell_type": "markdown",
      "source": [
        "# Games Update"
      ],
      "metadata": {
        "id": "OUz5s_lehpoW"
      }
    },
    {
      "cell_type": "code",
      "source": [
        "import datetime\n",
        "\n",
        "# Get the current date\n",
        "current_date = datetime.date.today()\n",
        "previous_week = current_date - datetime.timedelta(days=(7))\n",
        "\n",
        "week_url=find_list_weekly_ranking_url(previous_week,current_date,nb_players_ranking=300)[0]\n",
        "ranking_week=get_ranking(week_url)\n",
        "\n",
        "previous_ranking=get_file_content(\"data/df_all_ranking.csv\")\n",
        "df_ranking_all=pd.concat([previous_ranking,ranking_week]).reset_index(drop=True).drop_duplicates()\n",
        "add_file_github(\"data/df_all_ranking.csv\",df_ranking_all.to_csv(index=False))\n"
      ],
      "metadata": {
        "id": "BnoVLxI-hrd0"
      },
      "execution_count": null,
      "outputs": []
    },
    {
      "cell_type": "markdown",
      "source": [
        "# Odds Update"
      ],
      "metadata": {
        "id": "AYbpjDP3XIyB"
      }
    },
    {
      "cell_type": "markdown",
      "source": [
        "We use a brut force methodolodgy here, recreating the table from scratch every week."
      ],
      "metadata": {
        "id": "hLctqREJXORA"
      }
    },
    {
      "cell_type": "code",
      "source": [
        "# URL of the online-hosted Excel dataset\n",
        "columns_selected=['Location','Tournament','Date','Winner','Loser']\n",
        "df_all_betting=pd.DataFrame(columns=columns_selected)\n",
        "for year in [2001+k for k in range(23)]:\n",
        "  excel_url = \"http://www.tennis-data.co.uk/\"+str(year)+\"/\"+str(year)+\".xlsx\"\n",
        "\n",
        "  # Read the Excel dataset into a Pandas DataFrame\n",
        "  df = pd.read_excel(excel_url)\n",
        "\n",
        "  odds_columns=[k for k in df.columns if k[-1]=='L' or k[-1]=='W']\n",
        "  columns_selected_year=columns_selected+odds_columns\n",
        "  # print(df.columns)\n",
        "  df=df[columns_selected_year]\n",
        "\n",
        "  # Display the first few rows of the DataFrame to verify the data\n",
        "  df_all_betting=pd.concat([df_all_betting,df]).reset_index(drop=True)\n",
        "\n",
        "add_file_github(\"data/df_all_betting.csv\",df_all_betting.to_csv(index=False))"
      ],
      "metadata": {
        "id": "9mMIi8IfXNaT"
      },
      "execution_count": null,
      "outputs": []
    }
  ]
}