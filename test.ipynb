{
  "nbformat": 4,
  "nbformat_minor": 0,
  "metadata": {
    "colab": {
      "provenance": []
    },
    "kernelspec": {
      "name": "python3",
      "display_name": "Python 3"
    },
    "language_info": {
      "name": "python"
    }
  },
  "cells": [
    {
      "cell_type": "code",
      "execution_count": 2,
      "metadata": {
        "colab": {
          "base_uri": "https://localhost:8080/"
        },
        "id": "X79ndvP7Ga2_",
        "outputId": "a21b9828-41d0-42b3-ddab-c45b99f04eec"
      },
      "outputs": [
        {
          "output_type": "stream",
          "name": "stdout",
          "text": [
            "Drive already mounted at /content/drive; to attempt to forcibly remount, call drive.mount(\"/content/drive\", force_remount=True).\n"
          ]
        }
      ],
      "source": [
        "import pickle\n",
        "from google.colab import drive\n",
        "import datetime\n",
        "drive.mount('/content/drive')\n",
        "\n",
        "list_test=[datetime.datetime.now()]\n",
        "\n",
        "# Save the list to a file\n",
        "with open('drive/MyDrive/Perso/Tennis_Gambling/test.pkl', 'wb') as file:\n",
        "    pickle.dump(list_test, file)"
      ]
    }
  ]
}