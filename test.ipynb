{
  "nbformat": 4,
  "nbformat_minor": 0,
  "metadata": {
    "colab": {
      "provenance": [],
      "authorship_tag": "ABX9TyOeI2tneO8MeQrBi5PmJo+U",
      "include_colab_link": true
    },
    "kernelspec": {
      "name": "python3",
      "display_name": "Python 3"
    },
    "language_info": {
      "name": "python"
    }
  },
  "cells": [
    {
      "cell_type": "markdown",
      "metadata": {
        "id": "view-in-github",
        "colab_type": "text"
      },
      "source": [
        "<a href=\"https://colab.research.google.com/github/jeanbouteiller-ds/tennis_prediction/blob/main/test.ipynb\" target=\"_parent\"><img src=\"https://colab.research.google.com/assets/colab-badge.svg\" alt=\"Open In Colab\"/></a>"
      ]
    },
    {
      "cell_type": "code",
      "source": [
        "# pip install google"
      ],
      "metadata": {
        "colab": {
          "base_uri": "https://localhost:8080/"
        },
        "id": "1l3N4aDKOyum",
        "outputId": "a63ab36f-5e39-4711-873a-90e686956fd0"
      },
      "execution_count": 9,
      "outputs": [
        {
          "output_type": "stream",
          "name": "stdout",
          "text": [
            "Requirement already satisfied: google in /usr/local/lib/python3.10/dist-packages (2.0.3)\n",
            "Requirement already satisfied: beautifulsoup4 in /usr/local/lib/python3.10/dist-packages (from google) (4.11.2)\n",
            "Requirement already satisfied: soupsieve>1.2 in /usr/local/lib/python3.10/dist-packages (from beautifulsoup4->google) (2.5)\n"
          ]
        }
      ]
    },
    {
      "cell_type": "code",
      "execution_count": 7,
      "metadata": {
        "colab": {
          "base_uri": "https://localhost:8080/"
        },
        "id": "X79ndvP7Ga2_",
        "outputId": "2d5b62df-4523-46fa-d6c1-f5fb0d117107"
      },
      "outputs": [
        {
          "output_type": "stream",
          "name": "stdout",
          "text": [
            "[datetime.datetime(2023, 10, 12, 9, 28, 37, 797530)]\n"
          ]
        }
      ],
      "source": [
        "import pickle\n",
        "from google.colab import drive\n",
        "import datetime\n",
        "# drive.mount('/content/drive')\n",
        "\n",
        "list_test=[datetime.datetime.now()]\n",
        "\n",
        "# Save the list to a file\n",
        "# with open('drive/MyDrive/Perso/Tennis_Gambling/test.pkl', 'wb') as file:\n",
        "#     pickle.dump(list_test, file)\n",
        "\n",
        "print(list_test)"
      ]
    },
    {
      "cell_type": "code",
      "source": [
        "# with open('drive/MyDrive/Perso/Tennis_Gambling/test.pkl', 'rb') as file:\n",
        "#     test = pickle.load(file)\n",
        "\n",
        "# test"
      ],
      "metadata": {
        "colab": {
          "base_uri": "https://localhost:8080/"
        },
        "id": "RMpgAFVIITte",
        "outputId": "d3b71a6d-a4cf-462e-af2d-7750ac8dcedd"
      },
      "execution_count": 6,
      "outputs": [
        {
          "output_type": "execute_result",
          "data": {
            "text/plain": [
              "[datetime.datetime(2023, 10, 12, 9, 9, 19, 414801)]"
            ]
          },
          "metadata": {},
          "execution_count": 6
        }
      ]
    },
    {
      "cell_type": "code",
      "source": [],
      "metadata": {
        "id": "ytPm5JRrJeuf"
      },
      "execution_count": null,
      "outputs": []
    }
  ]
}