{
  "nbformat": 4,
  "nbformat_minor": 0,
  "metadata": {
    "colab": {
      "provenance": [],
      "authorship_tag": "ABX9TyMJPGxTM1nMBz7845UNN+Ra",
      "include_colab_link": true
    },
    "kernelspec": {
      "name": "python3",
      "display_name": "Python 3"
    },
    "language_info": {
      "name": "python"
    }
  },
  "cells": [
    {
      "cell_type": "markdown",
      "metadata": {
        "id": "view-in-github",
        "colab_type": "text"
      },
      "source": [
        "<a href=\"https://colab.research.google.com/github/jeanbouteiller-ds/tennis_prediction/blob/main/test.ipynb\" target=\"_parent\"><img src=\"https://colab.research.google.com/assets/colab-badge.svg\" alt=\"Open In Colab\"/></a>"
      ]
    },
    {
      "cell_type": "code",
      "execution_count": 30,
      "metadata": {
        "id": "X79ndvP7Ga2_"
      },
      "outputs": [],
      "source": [
        "# import pickle\n",
        "import datetime\n",
        "import os\n",
        "\n",
        "list_test = [datetime.datetime.now()]\n",
        "\n",
        "# Specify the file path within the data folder in the GitHub workspace\n",
        "file_path = 'test_data.txt'\n",
        "\n",
        "with open(file_path, 'a') as file:\n",
        "    for item in list_test:\n",
        "        file.write(str(item) + \"\\n\")\n",
        "\n",
        "# print(list_test)\n"
      ]
    }
  ]
}