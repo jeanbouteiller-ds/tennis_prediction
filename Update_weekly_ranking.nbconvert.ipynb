{
 "cells": [
  {
   "cell_type": "markdown",
   "metadata": {
    "colab_type": "text",
    "id": "view-in-github"
   },
   "source": [
    "<a href=\"https://colab.research.google.com/github/jeanbouteiller-ds/tennis_prediction/blob/main/Update_weekly_ranking.ipynb\" target=\"_parent\"><img src=\"https://colab.research.google.com/assets/colab-badge.svg\" alt=\"Open In Colab\"/></a>"
   ]
  },
  {
   "cell_type": "code",
   "execution_count": 1,
   "metadata": {
    "colab": {
     "base_uri": "https://localhost:8080/"
    },
    "execution": {
     "iopub.execute_input": "2023-10-13T15:54:15.742267Z",
     "iopub.status.busy": "2023-10-13T15:54:15.742003Z",
     "iopub.status.idle": "2023-10-13T15:54:34.169147Z",
     "shell.execute_reply": "2023-10-13T15:54:34.167985Z"
    },
    "id": "0GMw8_fEXOEX",
    "outputId": "465ce2c5-800a-4ad4-f6cb-6d1f22f66236"
   },
   "outputs": [
    {
     "name": "stdout",
     "output_type": "stream",
     "text": [
      "Requirement already satisfied: requests in /opt/hostedtoolcache/Python/3.8.18/x64/lib/python3.8/site-packages (2.31.0)\n",
      "Requirement already satisfied: charset-normalizer<4,>=2 in /opt/hostedtoolcache/Python/3.8.18/x64/lib/python3.8/site-packages (from requests) (3.3.0)\n",
      "Requirement already satisfied: idna<4,>=2.5 in /opt/hostedtoolcache/Python/3.8.18/x64/lib/python3.8/site-packages (from requests) (3.4)\n",
      "Requirement already satisfied: urllib3<3,>=1.21.1 in /opt/hostedtoolcache/Python/3.8.18/x64/lib/python3.8/site-packages (from requests) (2.0.6)\n",
      "Requirement already satisfied: certifi>=2017.4.17 in /opt/hostedtoolcache/Python/3.8.18/x64/lib/python3.8/site-packages (from requests) (2023.7.22)\n"
     ]
    },
    {
     "name": "stderr",
     "output_type": "stream",
     "text": [
      "\n",
      "\u001b[1m[\u001b[0m\u001b[34;49mnotice\u001b[0m\u001b[1;39;49m]\u001b[0m\u001b[39;49m A new release of pip is available: \u001b[0m\u001b[31;49m23.0.1\u001b[0m\u001b[39;49m -> \u001b[0m\u001b[32;49m23.2.1\u001b[0m\n",
      "\u001b[1m[\u001b[0m\u001b[34;49mnotice\u001b[0m\u001b[1;39;49m]\u001b[0m\u001b[39;49m To update, run: \u001b[0m\u001b[32;49mpip install --upgrade pip\u001b[0m\n"
     ]
    },
    {
     "name": "stdout",
     "output_type": "stream",
     "text": [
      "Successfully installed requests\n",
      "Collecting PyGitHub\n",
      "  Obtaining dependency information for PyGitHub from https://files.pythonhosted.org/packages/be/04/810d131be173cba445d3658a45512b2b2b3d0960d52c4a300d6ec5e00f52/PyGithub-2.1.1-py3-none-any.whl.metadata\n",
      "  Downloading PyGithub-2.1.1-py3-none-any.whl.metadata (2.2 kB)\n",
      "Collecting pynacl>=1.4.0 (from PyGitHub)\n",
      "  Downloading PyNaCl-1.5.0-cp36-abi3-manylinux_2_17_x86_64.manylinux2014_x86_64.manylinux_2_24_x86_64.whl (856 kB)\n",
      "\u001b[2K     \u001b[90m━━━━━━━━━━━━━━━━━━━━━━━━━━━━━━━━━━━━━━━\u001b[0m \u001b[32m856.7/856.7 kB\u001b[0m \u001b[31m7.8 MB/s\u001b[0m eta \u001b[36m0:00:00\u001b[0m\n",
      "\u001b[?25hRequirement already satisfied: python-dateutil in /opt/hostedtoolcache/Python/3.8.18/x64/lib/python3.8/site-packages (from PyGitHub) (2.8.2)\n",
      "Requirement already satisfied: requests>=2.14.0 in /opt/hostedtoolcache/Python/3.8.18/x64/lib/python3.8/site-packages (from PyGitHub) (2.31.0)\n",
      "Collecting pyjwt[crypto]>=2.4.0 (from PyGitHub)\n",
      "  Obtaining dependency information for pyjwt[crypto]>=2.4.0 from https://files.pythonhosted.org/packages/2b/4f/e04a8067c7c96c364cef7ef73906504e2f40d690811c021e1a1901473a19/PyJWT-2.8.0-py3-none-any.whl.metadata\n",
      "  Downloading PyJWT-2.8.0-py3-none-any.whl.metadata (4.2 kB)\n",
      "Requirement already satisfied: typing-extensions>=4.0.0 in /opt/hostedtoolcache/Python/3.8.18/x64/lib/python3.8/site-packages (from PyGitHub) (4.8.0)\n",
      "Requirement already satisfied: urllib3>=1.26.0 in /opt/hostedtoolcache/Python/3.8.18/x64/lib/python3.8/site-packages (from PyGitHub) (2.0.6)\n",
      "Collecting Deprecated (from PyGitHub)\n",
      "  Obtaining dependency information for Deprecated from https://files.pythonhosted.org/packages/20/8d/778b7d51b981a96554f29136cd59ca7880bf58094338085bcf2a979a0e6a/Deprecated-1.2.14-py2.py3-none-any.whl.metadata\n",
      "  Downloading Deprecated-1.2.14-py2.py3-none-any.whl.metadata (5.4 kB)\n",
      "Collecting cryptography>=3.4.0 (from pyjwt[crypto]>=2.4.0->PyGitHub)\n",
      "  Obtaining dependency information for cryptography>=3.4.0 from https://files.pythonhosted.org/packages/eb/4b/f86cc66c632cf0948ca1712aadd255f624deef1cd371ea3bfd30851e188d/cryptography-41.0.4-cp37-abi3-manylinux_2_28_x86_64.whl.metadata\n",
      "  Downloading cryptography-41.0.4-cp37-abi3-manylinux_2_28_x86_64.whl.metadata (5.2 kB)\n",
      "Requirement already satisfied: cffi>=1.4.1 in /opt/hostedtoolcache/Python/3.8.18/x64/lib/python3.8/site-packages (from pynacl>=1.4.0->PyGitHub) (1.16.0)\n",
      "Requirement already satisfied: charset-normalizer<4,>=2 in /opt/hostedtoolcache/Python/3.8.18/x64/lib/python3.8/site-packages (from requests>=2.14.0->PyGitHub) (3.3.0)\n",
      "Requirement already satisfied: idna<4,>=2.5 in /opt/hostedtoolcache/Python/3.8.18/x64/lib/python3.8/site-packages (from requests>=2.14.0->PyGitHub) (3.4)\n",
      "Requirement already satisfied: certifi>=2017.4.17 in /opt/hostedtoolcache/Python/3.8.18/x64/lib/python3.8/site-packages (from requests>=2.14.0->PyGitHub) (2023.7.22)\n",
      "Collecting wrapt<2,>=1.10 (from Deprecated->PyGitHub)\n",
      "  Downloading wrapt-1.15.0-cp38-cp38-manylinux_2_5_x86_64.manylinux1_x86_64.manylinux_2_17_x86_64.manylinux2014_x86_64.whl (81 kB)\n",
      "\u001b[2K     \u001b[90m━━━━━━━━━━━━━━━━━━━━━━━━━━━━━━━━━━━━━━━━\u001b[0m \u001b[32m81.5/81.5 kB\u001b[0m \u001b[31m15.5 MB/s\u001b[0m eta \u001b[36m0:00:00\u001b[0m\n",
      "\u001b[?25hRequirement already satisfied: six>=1.5 in /opt/hostedtoolcache/Python/3.8.18/x64/lib/python3.8/site-packages (from python-dateutil->PyGitHub) (1.16.0)\n",
      "Requirement already satisfied: pycparser in /opt/hostedtoolcache/Python/3.8.18/x64/lib/python3.8/site-packages (from cffi>=1.4.1->pynacl>=1.4.0->PyGitHub) (2.21)\n",
      "Downloading PyGithub-2.1.1-py3-none-any.whl (302 kB)\n",
      "\u001b[2K   \u001b[90m━━━━━━━━━━━━━━━━━━━━━━━━━━━━━━━━━━━━━━━━\u001b[0m \u001b[32m302.9/302.9 kB\u001b[0m \u001b[31m13.6 MB/s\u001b[0m eta \u001b[36m0:00:00\u001b[0m\n",
      "\u001b[?25hDownloading Deprecated-1.2.14-py2.py3-none-any.whl (9.6 kB)\n",
      "Downloading cryptography-41.0.4-cp37-abi3-manylinux_2_28_x86_64.whl (4.4 MB)\n",
      "\u001b[2K   \u001b[90m━━━━━━━━━━━━━━━━━━━━━━━━━━━━━━━━━━━━━━━━\u001b[0m \u001b[32m4.4/4.4 MB\u001b[0m \u001b[31m26.9 MB/s\u001b[0m eta \u001b[36m0:00:00\u001b[0m\n",
      "\u001b[?25hDownloading PyJWT-2.8.0-py3-none-any.whl (22 kB)\n",
      "Installing collected packages: wrapt, pyjwt, pynacl, Deprecated, cryptography, PyGitHub\n",
      "Successfully installed Deprecated-1.2.14 PyGitHub-2.1.1 cryptography-41.0.4 pyjwt-2.8.0 pynacl-1.5.0 wrapt-1.15.0\n",
      "Successfully installed PyGitHub\n"
     ]
    },
    {
     "name": "stderr",
     "output_type": "stream",
     "text": [
      "\n",
      "\u001b[1m[\u001b[0m\u001b[34;49mnotice\u001b[0m\u001b[1;39;49m]\u001b[0m\u001b[39;49m A new release of pip is available: \u001b[0m\u001b[31;49m23.0.1\u001b[0m\u001b[39;49m -> \u001b[0m\u001b[32;49m23.2.1\u001b[0m\n",
      "\u001b[1m[\u001b[0m\u001b[34;49mnotice\u001b[0m\u001b[1;39;49m]\u001b[0m\u001b[39;49m To update, run: \u001b[0m\u001b[32;49mpip install --upgrade pip\u001b[0m\n"
     ]
    },
    {
     "name": "stdout",
     "output_type": "stream",
     "text": [
      "Collecting pandas\n",
      "  Obtaining dependency information for pandas from https://files.pythonhosted.org/packages/f8/7f/5b047effafbdd34e52c9e2d7e44f729a0655efafb22198c45cf692cdc157/pandas-2.0.3-cp38-cp38-manylinux_2_17_x86_64.manylinux2014_x86_64.whl.metadata\n",
      "  Downloading pandas-2.0.3-cp38-cp38-manylinux_2_17_x86_64.manylinux2014_x86_64.whl.metadata (18 kB)\n",
      "Requirement already satisfied: python-dateutil>=2.8.2 in /opt/hostedtoolcache/Python/3.8.18/x64/lib/python3.8/site-packages (from pandas) (2.8.2)\n",
      "Requirement already satisfied: pytz>=2020.1 in /opt/hostedtoolcache/Python/3.8.18/x64/lib/python3.8/site-packages (from pandas) (2023.3.post1)\n",
      "Collecting tzdata>=2022.1 (from pandas)\n",
      "  Downloading tzdata-2023.3-py2.py3-none-any.whl (341 kB)\n",
      "\u001b[2K     \u001b[90m━━━━━━━━━━━━━━━━━━━━━━━━━━━━━━━━━━━━━━━\u001b[0m \u001b[32m341.8/341.8 kB\u001b[0m \u001b[31m6.0 MB/s\u001b[0m eta \u001b[36m0:00:00\u001b[0m\n",
      "\u001b[?25hCollecting numpy>=1.20.3 (from pandas)\n",
      "  Obtaining dependency information for numpy>=1.20.3 from https://files.pythonhosted.org/packages/98/5d/5738903efe0ecb73e51eb44feafba32bdba2081263d40c5043568ff60faf/numpy-1.24.4-cp38-cp38-manylinux_2_17_x86_64.manylinux2014_x86_64.whl.metadata\n",
      "  Downloading numpy-1.24.4-cp38-cp38-manylinux_2_17_x86_64.manylinux2014_x86_64.whl.metadata (5.6 kB)\n",
      "Requirement already satisfied: six>=1.5 in /opt/hostedtoolcache/Python/3.8.18/x64/lib/python3.8/site-packages (from python-dateutil>=2.8.2->pandas) (1.16.0)\n",
      "Downloading pandas-2.0.3-cp38-cp38-manylinux_2_17_x86_64.manylinux2014_x86_64.whl (12.4 MB)\n",
      "\u001b[2K   \u001b[90m━━━━━━━━━━━━━━━━━━━━━━━━━━━━━━━━━━━━━━━━\u001b[0m \u001b[32m12.4/12.4 MB\u001b[0m \u001b[31m45.7 MB/s\u001b[0m eta \u001b[36m0:00:00\u001b[0m\n",
      "\u001b[?25hDownloading numpy-1.24.4-cp38-cp38-manylinux_2_17_x86_64.manylinux2014_x86_64.whl (17.3 MB)\n",
      "\u001b[2K   \u001b[90m━━━━━━━━━━━━━━━━━━━━━━━━━━━━━━━━━━━━━━━━\u001b[0m \u001b[32m17.3/17.3 MB\u001b[0m \u001b[31m57.2 MB/s\u001b[0m eta \u001b[36m0:00:00\u001b[0m\n",
      "\u001b[?25hInstalling collected packages: tzdata, numpy, pandas\n",
      "Successfully installed numpy-1.24.4 pandas-2.0.3 tzdata-2023.3\n",
      "Successfully installed pandas\n"
     ]
    },
    {
     "name": "stderr",
     "output_type": "stream",
     "text": [
      "\n",
      "\u001b[1m[\u001b[0m\u001b[34;49mnotice\u001b[0m\u001b[1;39;49m]\u001b[0m\u001b[39;49m A new release of pip is available: \u001b[0m\u001b[31;49m23.0.1\u001b[0m\u001b[39;49m -> \u001b[0m\u001b[32;49m23.2.1\u001b[0m\n",
      "\u001b[1m[\u001b[0m\u001b[34;49mnotice\u001b[0m\u001b[1;39;49m]\u001b[0m\u001b[39;49m To update, run: \u001b[0m\u001b[32;49mpip install --upgrade pip\u001b[0m\n"
     ]
    }
   ],
   "source": [
    "import requests\n",
    "import io\n",
    "import importlib.util\n",
    "import sys\n",
    "import nbformat\n",
    "\n",
    "# Define the URL of the nb1 notebook on GitHub\n",
    "github_url = \"https://raw.githubusercontent.com/jeanbouteiller-ds/tennis_prediction/main/functions_fixed_table.ipynb\"\n",
    "\n",
    "# Download the notebook as a raw .ipynb file\n",
    "response = requests.get(github_url)\n",
    "\n",
    "if response.status_code == 200:\n",
    "  notebook_content = response.text\n",
    "\n",
    "  # Parse the notebook content\n",
    "  notebook = nbformat.reads(notebook_content, as_version=4)\n",
    "\n",
    "  # Now you can execute the cells in the notebook\n",
    "  for cell in notebook.cells:\n",
    "      if cell.cell_type == 'code':\n",
    "          exec(cell.source)"
   ]
  },
  {
   "cell_type": "markdown",
   "metadata": {
    "id": "Vv404k3JVMHp"
   },
   "source": [
    "# Fixed Table initialisation"
   ]
  },
  {
   "cell_type": "markdown",
   "metadata": {
    "id": "7ZQDZqq1dtBg"
   },
   "source": [
    "The 2 cells below are use to initialise the data, but they don't have to be ran every week. The code will be commented in the workflow."
   ]
  },
  {
   "cell_type": "code",
   "execution_count": 2,
   "metadata": {
    "execution": {
     "iopub.execute_input": "2023-10-13T15:54:34.173413Z",
     "iopub.status.busy": "2023-10-13T15:54:34.173073Z",
     "iopub.status.idle": "2023-10-13T15:54:34.178407Z",
     "shell.execute_reply": "2023-10-13T15:54:34.177634Z"
    },
    "id": "bhhocwdoVLfo"
   },
   "outputs": [],
   "source": [
    "# start_date = datetime(2022, 9, 1)\n",
    "# end_date = datetime(2022, 9, 15)\n",
    "\n",
    "# list_all_names,list_all_urls_final=create_initial_list(start_date,end_date)\n",
    "\n",
    "# # # Create a new file with content\n",
    "# file_name_player_names = \"list_all_players_names.txt\"  # The name of the new file\n",
    "# file_name_urls = \"list_all_urls.txt\"  # The name of the new file\n",
    "# list_all_names_str=str(list_all_names)\n",
    "# list_all_urls_str=str(list_all_urls_final)\n",
    "\n",
    "# add_file_github(file_name_player_names,list_all_names_str)\n",
    "# add_file_github(file_name_urls,list_all_urls_str)"
   ]
  },
  {
   "cell_type": "code",
   "execution_count": 3,
   "metadata": {
    "execution": {
     "iopub.execute_input": "2023-10-13T15:54:34.181768Z",
     "iopub.status.busy": "2023-10-13T15:54:34.181325Z",
     "iopub.status.idle": "2023-10-13T15:54:34.184709Z",
     "shell.execute_reply": "2023-10-13T15:54:34.183824Z"
    },
    "id": "KqXZ9d1HV4tF"
   },
   "outputs": [],
   "source": [
    "# list_player_names=get_file_content('list_all_players_names.txt')\n",
    "# list_urls=get_file_content('list_all_urls.txt')\n",
    "# df_fixed=create_new_fixed_table('df_player_fixed.csv',list_player_names,list_urls,write_csv=True)\n",
    "# #NB: still need to improve the way the csv file is created"
   ]
  },
  {
   "cell_type": "markdown",
   "metadata": {
    "id": "elfdfQo4VQ_5"
   },
   "source": [
    "# Fixed Table Update"
   ]
  },
  {
   "cell_type": "code",
   "execution_count": 4,
   "metadata": {
    "colab": {
     "base_uri": "https://localhost:8080/"
    },
    "execution": {
     "iopub.execute_input": "2023-10-13T15:54:34.188560Z",
     "iopub.status.busy": "2023-10-13T15:54:34.188097Z",
     "iopub.status.idle": "2023-10-13T15:54:36.127712Z",
     "shell.execute_reply": "2023-10-13T15:54:36.126911Z"
    },
    "id": "xbf1S32ouBJy",
    "outputId": "ff937deb-2785-4f9b-82c3-48054a9e399d"
   },
   "outputs": [
    {
     "name": "stdout",
     "output_type": "stream",
     "text": [
      "0 0\n"
     ]
    }
   ],
   "source": [
    "list_urls=get_file_content('list_all_urls.txt')\n",
    "list_player_names=get_file_content('list_all_players_names.txt')\n",
    "fixed_table=get_file_content('df_player_fixed.csv')\n",
    "\n",
    "url_ranking='https://www.atptour.com/en/rankings/singles?rankRange=1-200'\n",
    "\n",
    "list_player_names_new,list_urls_new=players_from_url(url_ranking)\n",
    "list_player_names_new=[k for k in list_player_names_new if k not in list_player_names]\n",
    "list_urls_new=[k for k in list_urls_new if k not in list_urls]\n",
    "\n",
    "print(len(list_urls_new),len(list_player_names_new))\n",
    "\n",
    "df_new=create_new_fixed_table('', list_player_names_new, list_urls_new)"
   ]
  },
  {
   "cell_type": "code",
   "execution_count": 5,
   "metadata": {
    "execution": {
     "iopub.execute_input": "2023-10-13T15:54:36.131612Z",
     "iopub.status.busy": "2023-10-13T15:54:36.131158Z",
     "iopub.status.idle": "2023-10-13T15:54:39.206015Z",
     "shell.execute_reply": "2023-10-13T15:54:39.204774Z"
    },
    "id": "Eq5mM_NOg1gU"
   },
   "outputs": [],
   "source": [
    "import pandas as pd\n",
    "\n",
    "df_fixed_all=pd.concat([fixed_table,df_new])\n",
    "list_player_names_all=list_player_names_new+list_player_names\n",
    "list_urls_all=list_urls_new+list_urls\n",
    "\n",
    "add_file_github('list_all_urls.txt',str(list_urls_all))\n",
    "add_file_github('list_all_players_names.txt',str(list_player_names_all))\n",
    "add_file_github('df_player_fixed.csv',df_fixed_all.to_csv(index=False))\n"
   ]
  }
 ],
 "metadata": {
  "colab": {
   "authorship_tag": "ABX9TyOWDMjU21q88SUMqrXI93pO",
   "include_colab_link": true,
   "provenance": []
  },
  "kernelspec": {
   "display_name": "Python 3",
   "name": "python3"
  },
  "language_info": {
   "codemirror_mode": {
    "name": "ipython",
    "version": 3
   },
   "file_extension": ".py",
   "mimetype": "text/x-python",
   "name": "python",
   "nbconvert_exporter": "python",
   "pygments_lexer": "ipython3",
   "version": "3.8.18"
  }
 },
 "nbformat": 4,
 "nbformat_minor": 0
}
