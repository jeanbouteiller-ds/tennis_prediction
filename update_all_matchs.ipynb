{
  "nbformat": 4,
  "nbformat_minor": 0,
  "metadata": {
    "colab": {
      "provenance": [],
      "authorship_tag": "ABX9TyNrKMXTZn1VlNiGrZU+5hCY",
      "include_colab_link": true
    },
    "kernelspec": {
      "name": "python3",
      "display_name": "Python 3"
    },
    "language_info": {
      "name": "python"
    }
  },
  "cells": [
    {
      "cell_type": "markdown",
      "metadata": {
        "id": "view-in-github",
        "colab_type": "text"
      },
      "source": [
        "<a href=\"https://colab.research.google.com/github/jeanbouteiller-ds/tennis_prediction/blob/main/update_all_matchs.ipynb\" target=\"_parent\"><img src=\"https://colab.research.google.com/assets/colab-badge.svg\" alt=\"Open In Colab\"/></a>"
      ]
    },
    {
      "cell_type": "code",
      "source": [
        "import subprocess\n",
        "import sys\n",
        "\n",
        "def install_package(package_name):\n",
        "    try:\n",
        "        subprocess.check_call([sys.executable, '-m', 'pip', 'install', package_name])\n",
        "        print(f\"Successfully installed {package_name}\")\n",
        "    except subprocess.CalledProcessError:\n",
        "        print(f\"Failed to install {package_name}\") # Install the PyGitHub library\n",
        "\n",
        "install_package(\"requests\")\n",
        "install_package(\"PyGitHub\")\n",
        "install_package(\"pandas\")\n",
        "install_package(\"tqdm\")"
      ],
      "metadata": {
        "colab": {
          "base_uri": "https://localhost:8080/"
        },
        "id": "oHh3Jgp5dHP_",
        "outputId": "8d67a9cc-4abf-4a1f-ecd0-843af134b1a8"
      },
      "execution_count": 43,
      "outputs": [
        {
          "output_type": "stream",
          "name": "stdout",
          "text": [
            "Successfully installed requests\n",
            "Successfully installed PyGitHub\n",
            "Successfully installed pandas\n",
            "Successfully installed tqdm\n"
          ]
        }
      ]
    },
    {
      "cell_type": "code",
      "source": [
        "import requests\n",
        "import io\n",
        "import importlib.util\n",
        "import sys\n",
        "import nbformat\n",
        "import pandas\n",
        "\n",
        "# Define the URL of the nb1 notebook on GitHub\n",
        "github_url = \"https://raw.githubusercontent.com/jeanbouteiller-ds/tennis_prediction/main/functions_fixed_table.ipynb\"\n",
        "\n",
        "# Download the notebook as a raw .ipynb file\n",
        "response = requests.get(github_url)\n",
        "\n",
        "if response.status_code == 200:\n",
        "  notebook_content = response.text\n",
        "\n",
        "  # Parse the notebook content\n",
        "  notebook = nbformat.reads(notebook_content, as_version=4)\n",
        "\n",
        "  # Now you can execute the cells in the notebook\n",
        "  for cell in notebook.cells:\n",
        "      if cell.cell_type == 'code':\n",
        "          exec(cell.source)"
      ],
      "metadata": {
        "colab": {
          "base_uri": "https://localhost:8080/"
        },
        "id": "0GMw8_fEXOEX",
        "outputId": "4f24e1cb-358d-42c6-f536-25bbbe8c2dae"
      },
      "execution_count": 65,
      "outputs": [
        {
          "output_type": "stream",
          "name": "stdout",
          "text": [
            "Successfully installed requests\n",
            "Successfully installed requests\n",
            "Successfully installed PyGitHub\n",
            "Successfully installed pandas\n",
            "Successfully installed requests\n"
          ]
        }
      ]
    },
    {
      "cell_type": "markdown",
      "source": [
        "# Games Update"
      ],
      "metadata": {
        "id": "OUz5s_lehpoW"
      }
    },
    {
      "cell_type": "code",
      "source": [
        "from tqdm import tqdm\n",
        "import re\n",
        "\n",
        "df_all_matchs=get_file_content(\"df_all_matchs.csv\")\n",
        "df_tournaments=get_file_content(\"df_tournaments.csv\")\n",
        "\n",
        "df_tournaments=df_tournaments[(pd.to_datetime(df_tournaments['tournament_date'])>=(datetime.now()-timedelta(days=15)))&\n",
        "                              (pd.to_datetime(df_tournaments['tournament_date'])<=(datetime.now()+timedelta(days=15)))]\n",
        "\n",
        "list_matchs=[]\n",
        "pct_tournaments=1\n",
        "nb_rows=int(pct_tournaments*len(df_tournaments))\n",
        "for index,row in tqdm(df_tournaments[:int(nb_rows)].iterrows(), total=nb_rows):\n",
        "  list_matchs+=find_matchs(row)\n",
        "\n",
        "games_to_add=pd.DataFrame(list_matchs).dropna(subset='winner_name')\n",
        "\n",
        "final_df=pd.concat([df_all_matchs,games_to_add]).drop_duplicates().reset_index(drop=True)\n",
        "\n",
        "add_file_github('df_all_matchs.csv',final_df.to_csv(index=False))"
      ],
      "metadata": {
        "colab": {
          "base_uri": "https://localhost:8080/"
        },
        "id": "BnoVLxI-hrd0",
        "outputId": "71f53523-2fa5-4ea6-ef22-8cc94fdc02a6"
      },
      "execution_count": 66,
      "outputs": [
        {
          "output_type": "stream",
          "name": "stderr",
          "text": [
            "\r  0%|          | 0/7 [00:00<?, ?it/s]"
          ]
        },
        {
          "output_type": "stream",
          "name": "stdout",
          "text": [
            "url                /en/tournaments/shanghai/5014/overview\n",
            "tournament_name                           Shanghai, China\n",
            "tournament_date                                2023.10.04\n",
            "number_players                                         96\n",
            "indoor_outdoor                                    Outdoor\n",
            "surface                                              Hard\n",
            "prize_money                                   $10,046,270\n",
            "Name: 1629, dtype: object\n",
            "https://www.atptour.com/en/scores/archive/shanghai/5014/2023/results https://www.atptour.com/en/scores/current/shanghai/5014//results\n",
            "[{'tournament_name': 'Shanghai, China', 'tournament_date': '2023.10.04', 'round': 'Final', 'winner_name': 'Hubert Hurkacz', 'loser_name': 'Andrey Rublev', 'score': '63-36-768'}, {'tournament_name': 'Shanghai, China', 'tournament_date': '2023.10.04', 'round': 'Semifinals', 'winner_name': 'Andrey Rublev', 'loser_name': 'Grigor Dimitrov', 'score': '63-36-768'}, {'tournament_name': 'Shanghai, China', 'tournament_date': '2023.10.04', 'round': 'Semifinals', 'winner_name': 'Hubert Hurkacz', 'loser_name': 'Sebastian Korda', 'score': '767-63'}, {'tournament_name': 'Shanghai, China', 'tournament_date': '2023.10.04', 'round': 'Quarterfinals', 'winner_name': 'Andrey Rublev', 'loser_name': 'Ugo Humbert', 'score': '63-36-768'}, {'tournament_name': 'Shanghai, China', 'tournament_date': '2023.10.04', 'round': 'Quarterfinals', 'winner_name': 'Hubert Hurkacz', 'loser_name': 'Fabian Marozsan', 'score': '767-63'}, {'tournament_name': 'Shanghai, China', 'tournament_date': '2023.10.04', 'round': 'Quarterfinals', 'winner_name': 'Grigor Dimitrov', 'loser_name': 'Nicolas Jarry', 'score': '63-64'}, {'tournament_name': 'Shanghai, China', 'tournament_date': '2023.10.04', 'round': 'Quarterfinals', 'winner_name': 'Sebastian Korda', 'loser_name': 'Ben Shelton', 'score': '62-63'}, {'tournament_name': 'Shanghai, China', 'tournament_date': '2023.10.04', 'round': 'Round of 16', 'winner_name': 'Grigor Dimitrov', 'loser_name': 'Carlos Alcaraz', 'score': '63-36-768'}, {'tournament_name': 'Shanghai, China', 'tournament_date': '2023.10.04', 'round': 'Round of 16', 'winner_name': 'Andrey Rublev', 'loser_name': 'Tommy Paul', 'score': '767-63'}, {'tournament_name': 'Shanghai, China', 'tournament_date': '2023.10.04', 'round': 'Round of 16', 'winner_name': 'Ben Shelton', 'loser_name': 'Jannik Sinner', 'score': '63-64'}, {'tournament_name': 'Shanghai, China', 'tournament_date': '2023.10.04', 'round': 'Round of 16', 'winner_name': 'Fabian Marozsan', 'loser_name': 'Casper Ruud', 'score': '62-63'}, {'tournament_name': 'Shanghai, China', 'tournament_date': '2023.10.04', 'round': 'Round of 16', 'winner_name': 'Hubert Hurkacz', 'loser_name': 'Zhizhen Zhang', 'score': '46-61-63'}, {'tournament_name': 'Shanghai, China', 'tournament_date': '2023.10.04', 'round': 'Round of 16', 'winner_name': 'Sebastian Korda', 'loser_name': 'Francisco Cerundolo', 'score': '762-64'}, {'tournament_name': 'Shanghai, China', 'tournament_date': '2023.10.04', 'round': 'Round of 16', 'winner_name': 'Nicolas Jarry', 'loser_name': 'Diego Schwartzman', 'score': '6710-62-766'}, {'tournament_name': 'Shanghai, China', 'tournament_date': '2023.10.04', 'round': 'Round of 16', 'winner_name': 'Ugo Humbert', 'loser_name': 'J.J. Wolf', 'score': '57-62-64'}, {'tournament_name': 'Shanghai, China', 'tournament_date': '2023.10.04', 'round': 'Round of 32', 'winner_name': 'Carlos Alcaraz', 'loser_name': 'Daniel Evans', 'score': '63-36-768'}, {'tournament_name': 'Shanghai, China', 'tournament_date': '2023.10.04', 'round': 'Round of 32', 'winner_name': 'Sebastian Korda', 'loser_name': 'Daniil Medvedev', 'score': '767-63'}, {'tournament_name': 'Shanghai, China', 'tournament_date': '2023.10.04', 'round': 'Round of 32', 'winner_name': 'Ugo Humbert', 'loser_name': 'Stefanos Tsitsipas', 'score': '63-64'}, {'tournament_name': 'Shanghai, China', 'tournament_date': '2023.10.04', 'round': 'Round of 32', 'winner_name': 'Andrey Rublev', 'loser_name': 'Adrian Mannarino', 'score': '62-63'}, {'tournament_name': 'Shanghai, China', 'tournament_date': '2023.10.04', 'round': 'Round of 32', 'winner_name': 'Jannik Sinner', 'loser_name': 'Sebastian Baez', 'score': '46-61-63'}, {'tournament_name': 'Shanghai, China', 'tournament_date': '2023.10.04', 'round': 'Round of 32', 'winner_name': 'Diego Schwartzman', 'loser_name': 'Taylor Fritz', 'score': '762-64'}, {'tournament_name': 'Shanghai, China', 'tournament_date': '2023.10.04', 'round': 'Round of 32', 'winner_name': 'Casper Ruud', 'loser_name': 'Christopher Eubanks', 'score': '6710-62-766'}, {'tournament_name': 'Shanghai, China', 'tournament_date': '2023.10.04', 'round': 'Round of 32', 'winner_name': 'Tommy Paul', 'loser_name': 'Arthur Fils', 'score': '57-62-64'}, {'tournament_name': 'Shanghai, China', 'tournament_date': '2023.10.04', 'round': 'Round of 32', 'winner_name': 'Grigor Dimitrov', 'loser_name': 'Karen Khachanov', 'score': '75-75'}, {'tournament_name': 'Shanghai, China', 'tournament_date': '2023.10.04', 'round': 'Round of 32', 'winner_name': 'Hubert Hurkacz', 'loser_name': 'Yu Hsiou Hsu', 'score': '26-63-765'}, {'tournament_name': 'Shanghai, China', 'tournament_date': '2023.10.04', 'round': 'Round of 32', 'winner_name': 'Ben Shelton', 'loser_name': 'Roman Safiullin', 'score': '763-36-64'}, {'tournament_name': 'Shanghai, China', 'tournament_date': '2023.10.04', 'round': 'Round of 32', 'winner_name': 'Francisco Cerundolo', 'loser_name': 'Marton Fucsovics', 'score': '766-46-764'}, {'tournament_name': 'Shanghai, China', 'tournament_date': '2023.10.04', 'round': 'Round of 32', 'winner_name': 'Nicolas Jarry', 'loser_name': 'Lorenzo Sonego', 'score': '75-766'}, {'tournament_name': 'Shanghai, China', 'tournament_date': '2023.10.04', 'round': 'Round of 32', 'winner_name': 'Fabian Marozsan', 'loser_name': 'Dusan Lajovic', 'score': '63-57-63'}, {'tournament_name': 'Shanghai, China', 'tournament_date': '2023.10.04', 'round': 'Round of 32', 'winner_name': 'J.J. Wolf', 'loser_name': 'Matteo Arnaldi', 'score': '61-62'}, {'tournament_name': 'Shanghai, China', 'tournament_date': '2023.10.04', 'round': 'Round of 32', 'winner_name': 'Zhizhen Zhang', 'loser_name': 'Brandon Nakashima', 'score': '761-64'}, {'tournament_name': 'Shanghai, China', 'tournament_date': '2023.10.04', 'round': 'Round of 64', 'winner_name': 'Carlos Alcaraz', 'loser_name': 'Gregoire Barrere', 'score': '63-36-768'}, {'tournament_name': 'Shanghai, China', 'tournament_date': '2023.10.04', 'round': 'Round of 64', 'winner_name': 'Daniil Medvedev', 'loser_name': 'Cristian Garin', 'score': '767-63'}, {'tournament_name': 'Shanghai, China', 'tournament_date': '2023.10.04', 'round': 'Round of 64', 'winner_name': 'Brandon Nakashima', 'loser_name': 'Holger Rune', 'score': '63-64'}, {'tournament_name': 'Shanghai, China', 'tournament_date': '2023.10.04', 'round': 'Round of 64', 'winner_name': 'Stefanos Tsitsipas', 'loser_name': 'Rinky Hijikata', 'score': '62-63'}, {'tournament_name': 'Shanghai, China', 'tournament_date': '2023.10.04', 'round': 'Round of 64', 'winner_name': 'Andrey Rublev', 'loser_name': 'Quentin Halys', 'score': '46-61-63'}, {'tournament_name': 'Shanghai, China', 'tournament_date': '2023.10.04', 'round': 'Round of 64', 'winner_name': 'Jannik Sinner', 'loser_name': 'Marcos Giron', 'score': '762-64'}, {'tournament_name': 'Shanghai, China', 'tournament_date': '2023.10.04', 'round': 'Round of 64', 'winner_name': 'Taylor Fritz', 'loser_name': 'Yosuke Watanuki', 'score': '6710-62-766'}, {'tournament_name': 'Shanghai, China', 'tournament_date': '2023.10.04', 'round': 'Round of 64', 'winner_name': 'Casper Ruud', 'loser_name': 'Yoshihito Nishioka', 'score': '57-62-64'}, {'tournament_name': 'Shanghai, China', 'tournament_date': '2023.10.04', 'round': 'Round of 64', 'winner_name': 'Roman Safiullin', 'loser_name': 'Alexander Zverev', 'score': '75-75'}, {'tournament_name': 'Shanghai, China', 'tournament_date': '2023.10.04', 'round': 'Round of 64', 'winner_name': 'Lorenzo Sonego', 'loser_name': 'Frances Tiafoe', 'score': '26-63-765'}, {'tournament_name': 'Shanghai, China', 'tournament_date': '2023.10.04', 'round': 'Round of 64', 'winner_name': 'Fabian Marozsan', 'loser_name': 'Alex de Minaur', 'score': '763-36-64'}, {'tournament_name': 'Shanghai, China', 'tournament_date': '2023.10.04', 'round': 'Round of 64', 'winner_name': 'Tommy Paul', 'loser_name': 'Sebastian Ofner', 'score': '766-46-764'}, {'tournament_name': 'Shanghai, China', 'tournament_date': '2023.10.04', 'round': 'Round of 64', 'winner_name': 'Karen Khachanov', 'loser_name': 'Beibit Zhukayev', 'score': '75-766'}, {'tournament_name': 'Shanghai, China', 'tournament_date': '2023.10.04', 'round': 'Round of 64', 'winner_name': 'Marton Fucsovics', 'loser_name': 'Felix Auger-Aliassime', 'score': '63-57-63'}, {'tournament_name': 'Shanghai, China', 'tournament_date': '2023.10.04', 'round': 'Round of 64', 'winner_name': 'J.J. Wolf', 'loser_name': 'Cameron Norrie', 'score': '61-62'}, {'tournament_name': 'Shanghai, China', 'tournament_date': '2023.10.04', 'round': 'Round of 64', 'winner_name': 'Hubert Hurkacz', 'loser_name': 'Thanasi Kokkinakis', 'score': '761-64'}, {'tournament_name': 'Shanghai, China', 'tournament_date': '2023.10.04', 'round': 'Round of 64', 'winner_name': 'Yu Hsiou Hsu', 'loser_name': 'Lorenzo Musetti', 'score': '768-62'}, {'tournament_name': 'Shanghai, China', 'tournament_date': '2023.10.04', 'round': 'Round of 64', 'winner_name': 'Grigor Dimitrov', 'loser_name': 'Aleksandar Vukic', 'score': '64-36-75'}, {'tournament_name': 'Shanghai, China', 'tournament_date': '2023.10.04', 'round': 'Round of 64', 'winner_name': 'Ben Shelton', 'loser_name': 'Jaume Munar', 'score': '63-60'}, {'tournament_name': 'Shanghai, China', 'tournament_date': '2023.10.04', 'round': 'Round of 64', 'winner_name': 'Francisco Cerundolo', 'loser_name': 'Mackenzie McDonald', 'score': '36-63-62'}, {'tournament_name': 'Shanghai, China', 'tournament_date': '2023.10.04', 'round': 'Round of 64', 'winner_name': 'Matteo Arnaldi', 'loser_name': 'Jan-Lennard Struff', 'score': '64-36-765'}, {'tournament_name': 'Shanghai, China', 'tournament_date': '2023.10.04', 'round': 'Round of 64', 'winner_name': 'Nicolas Jarry', 'loser_name': 'Terence Atmane', 'score': '64-62'}, {'tournament_name': 'Shanghai, China', 'tournament_date': '2023.10.04', 'round': 'Round of 64', 'winner_name': 'Dusan Lajovic', 'loser_name': 'Tallon Griekspoor', 'score': '64-677-64'}, {'tournament_name': 'Shanghai, China', 'tournament_date': '2023.10.04', 'round': 'Round of 64', 'winner_name': 'Arthur Fils', 'loser_name': 'Alejandro Davidovich Fokina', 'score': '766-64'}, {'tournament_name': 'Shanghai, China', 'tournament_date': '2023.10.04', 'round': 'Round of 64', 'winner_name': 'Sebastian Baez', 'loser_name': 'Dane Sweeny', 'score': '64-64'}, {'tournament_name': 'Shanghai, China', 'tournament_date': '2023.10.04', 'round': 'Round of 64', 'winner_name': 'Sebastian Korda', 'loser_name': 'Yunchaokete Bu', 'score': '36-63-64'}, {'tournament_name': 'Shanghai, China', 'tournament_date': '2023.10.04', 'round': 'Round of 64', 'winner_name': 'Diego Schwartzman', 'loser_name': 'Jiri Lehecka', 'score': '36-64-75'}, {'tournament_name': 'Shanghai, China', 'tournament_date': '2023.10.04', 'round': 'Round of 64', 'winner_name': 'Zhizhen Zhang', 'loser_name': 'Tomas Martin Etcheverry', 'score': '764-62'}, {'tournament_name': 'Shanghai, China', 'tournament_date': '2023.10.04', 'round': 'Round of 64', 'winner_name': 'Christopher Eubanks', 'loser_name': 'Yannick Hanfmann', 'score': '63-63'}, {'tournament_name': 'Shanghai, China', 'tournament_date': '2023.10.04', 'round': 'Round of 64', 'winner_name': 'Daniel Evans', 'loser_name': 'Mikhail Kukushkin', 'score': '26-63-764'}, {'tournament_name': 'Shanghai, China', 'tournament_date': '2023.10.04', 'round': 'Round of 64', 'winner_name': 'Adrian Mannarino', 'loser_name': 'Chun-Hsin Tseng', 'score': '762-62'}, {'tournament_name': 'Shanghai, China', 'tournament_date': '2023.10.04', 'round': 'Round of 64', 'winner_name': 'Ugo Humbert', 'loser_name': 'Botic van de Zandschulp', 'score': '62-75'}, {'tournament_name': 'Shanghai, China', 'tournament_date': '2023.10.04', 'round': 'Round of 128', 'winner_name': 'Matteo Arnaldi', 'loser_name': 'Alexei Popyrin', 'score': '63-36-768'}, {'tournament_name': 'Shanghai, China', 'tournament_date': '2023.10.04', 'round': 'Round of 128', 'winner_name': 'Terence Atmane', 'loser_name': 'Jordan Thompson', 'score': '767-63'}, {'tournament_name': 'Shanghai, China', 'tournament_date': '2023.10.04', 'round': 'Round of 128', 'winner_name': 'Gregoire Barrere', 'loser_name': 'Nuno Borges', 'score': '63-64'}, {'tournament_name': 'Shanghai, China', 'tournament_date': '2023.10.04', 'round': 'Round of 128', 'winner_name': 'Yunchaokete Bu', 'loser_name': 'Miomir Kecmanovic', 'score': '62-63'}, {'tournament_name': 'Shanghai, China', 'tournament_date': '2023.10.04', 'round': 'Round of 128', 'winner_name': 'Arthur Fils', 'loser_name': 'Pavel Kotov', 'score': '46-61-63'}, {'tournament_name': 'Shanghai, China', 'tournament_date': '2023.10.04', 'round': 'Round of 128', 'winner_name': 'Marton Fucsovics', 'loser_name': 'Denis Yevseyev', 'score': '762-64'}, {'tournament_name': 'Shanghai, China', 'tournament_date': '2023.10.04', 'round': 'Round of 128', 'winner_name': 'Cristian Garin', 'loser_name': 'Aleksandar Kovacevic', 'score': '6710-62-766'}, {'tournament_name': 'Shanghai, China', 'tournament_date': '2023.10.04', 'round': 'Round of 128', 'winner_name': 'Marcos Giron', 'loser_name': 'Daniel Elahi Galan', 'score': '57-62-64'}, {'tournament_name': 'Shanghai, China', 'tournament_date': '2023.10.04', 'round': 'Round of 128', 'winner_name': 'Quentin Halys', 'loser_name': 'Aslan Karatsev', 'score': '75-75'}, {'tournament_name': 'Shanghai, China', 'tournament_date': '2023.10.04', 'round': 'Round of 128', 'winner_name': 'Yannick Hanfmann', 'loser_name': 'James Duckworth', 'score': '26-63-765'}, {'tournament_name': 'Shanghai, China', 'tournament_date': '2023.10.04', 'round': 'Round of 128', 'winner_name': 'Rinky Hijikata', 'loser_name': 'Laslo Djere', 'score': '763-36-64'}, {'tournament_name': 'Shanghai, China', 'tournament_date': '2023.10.04', 'round': 'Round of 128', 'winner_name': 'Yu Hsiou Hsu', 'loser_name': 'Max Purcell', 'score': '766-46-764'}, {'tournament_name': 'Shanghai, China', 'tournament_date': '2023.10.04', 'round': 'Round of 128', 'winner_name': 'Thanasi Kokkinakis', 'loser_name': 'Fabio Fognini', 'score': '75-766'}, {'tournament_name': 'Shanghai, China', 'tournament_date': '2023.10.04', 'round': 'Round of 128', 'winner_name': 'Mikhail Kukushkin', 'loser_name': 'Alexandre Muller', 'score': '63-57-63'}, {'tournament_name': 'Shanghai, China', 'tournament_date': '2023.10.04', 'round': 'Round of 128', 'winner_name': 'Dusan Lajovic', 'loser_name': 'Stan Wawrinka', 'score': '61-62'}, {'tournament_name': 'Shanghai, China', 'tournament_date': '2023.10.04', 'round': 'Round of 128', 'winner_name': 'Fabian Marozsan', 'loser_name': 'Arthur Rinderknech', 'score': '761-64'}, {'tournament_name': 'Shanghai, China', 'tournament_date': '2023.10.04', 'round': 'Round of 128', 'winner_name': 'Mackenzie McDonald', 'loser_name': 'Corentin Moutet', 'score': '768-62'}, {'tournament_name': 'Shanghai, China', 'tournament_date': '2023.10.04', 'round': 'Round of 128', 'winner_name': 'Jaume Munar', 'loser_name': 'Rigele Te', 'score': '64-36-75'}, {'tournament_name': 'Shanghai, China', 'tournament_date': '2023.10.04', 'round': 'Round of 128', 'winner_name': 'Brandon Nakashima', 'loser_name': 'Bernabe Zapata Miralles', 'score': '63-60'}, {'tournament_name': 'Shanghai, China', 'tournament_date': '2023.10.04', 'round': 'Round of 128', 'winner_name': 'Yoshihito Nishioka', 'loser_name': 'Daniel Altmaier', 'score': '36-63-62'}, {'tournament_name': 'Shanghai, China', 'tournament_date': '2023.10.04', 'round': 'Round of 128', 'winner_name': 'Sebastian Ofner', 'loser_name': 'Juan Pablo Varillas', 'score': '64-36-765'}, {'tournament_name': 'Shanghai, China', 'tournament_date': '2023.10.04', 'round': 'Round of 128', 'winner_name': 'Roman Safiullin', 'loser_name': 'Andy Murray', 'score': '64-62'}, {'tournament_name': 'Shanghai, China', 'tournament_date': '2023.10.04', 'round': 'Round of 128', 'winner_name': 'Diego Schwartzman', 'loser_name': 'Luca Van Assche', 'score': '64-677-64'}, {'tournament_name': 'Shanghai, China', 'tournament_date': '2023.10.04', 'round': 'Round of 128', 'winner_name': 'Lorenzo Sonego', 'loser_name': 'Philip Sekulic', 'score': '766-64'}, {'tournament_name': 'Shanghai, China', 'tournament_date': '2023.10.04', 'round': 'Round of 128', 'winner_name': 'Dane Sweeny', 'loser_name': 'Taro Daniel', 'score': '64-64'}, {'tournament_name': 'Shanghai, China', 'tournament_date': '2023.10.04', 'round': 'Round of 128', 'winner_name': 'Chun-Hsin Tseng', 'loser_name': 'Alexander Shevchenko', 'score': '36-63-64'}, {'tournament_name': 'Shanghai, China', 'tournament_date': '2023.10.04', 'round': 'Round of 128', 'winner_name': 'Botic van de Zandschulp', 'loser_name': \"Christopher O'Connell\", 'score': '36-64-75'}, {'tournament_name': 'Shanghai, China', 'tournament_date': '2023.10.04', 'round': 'Round of 128', 'winner_name': 'Aleksandar Vukic', 'loser_name': 'Roberto Carballes Baena', 'score': '764-62'}, {'tournament_name': 'Shanghai, China', 'tournament_date': '2023.10.04', 'round': 'Round of 128', 'winner_name': 'Yosuke Watanuki', 'loser_name': 'Juncheng Shang', 'score': '63-63'}, {'tournament_name': 'Shanghai, China', 'tournament_date': '2023.10.04', 'round': 'Round of 128', 'winner_name': 'J.J. Wolf', 'loser_name': 'Pedro Cachin', 'score': '26-63-764'}, {'tournament_name': 'Shanghai, China', 'tournament_date': '2023.10.04', 'round': 'Round of 128', 'winner_name': 'Zhizhen Zhang', 'loser_name': 'Richard Gasquet', 'score': '762-62'}, {'tournament_name': 'Shanghai, China', 'tournament_date': '2023.10.04', 'round': 'Round of 128', 'winner_name': 'Beibit Zhukayev', 'loser_name': 'Stefano Napolitano', 'score': '62-75'}, {'tournament_name': 'Shanghai, China', 'tournament_date': '2023.10.04', 'round': '2nd Round Qualifying', 'winner_name': 'Rinky Hijikata', 'loser_name': 'Benjamin Lock', 'score': '63-36-768'}, {'tournament_name': 'Shanghai, China', 'tournament_date': '2023.10.04', 'round': '2nd Round Qualifying', 'winner_name': 'Aleksandar Kovacevic', 'loser_name': 'Li Tu', 'score': '767-63'}, {'tournament_name': 'Shanghai, China', 'tournament_date': '2023.10.04', 'round': '2nd Round Qualifying', 'winner_name': 'James Duckworth', 'loser_name': 'James McCabe', 'score': '63-64'}, {'tournament_name': 'Shanghai, China', 'tournament_date': '2023.10.04', 'round': '2nd Round Qualifying', 'winner_name': 'Stefano Napolitano', 'loser_name': 'Marc Polmans', 'score': '62-63'}, {'tournament_name': 'Shanghai, China', 'tournament_date': '2023.10.04', 'round': '2nd Round Qualifying', 'winner_name': 'Terence Atmane', 'loser_name': 'Steven Diez', 'score': '46-61-63'}, {'tournament_name': 'Shanghai, China', 'tournament_date': '2023.10.04', 'round': '2nd Round Qualifying', 'winner_name': 'Yu Hsiou Hsu', 'loser_name': 'Fajing Sun', 'score': '762-64'}, {'tournament_name': 'Shanghai, China', 'tournament_date': '2023.10.04', 'round': '2nd Round Qualifying', 'winner_name': 'Denis Yevseyev', 'loser_name': 'Tung-Lin Wu', 'score': '6710-62-766'}, {'tournament_name': 'Shanghai, China', 'tournament_date': '2023.10.04', 'round': '2nd Round Qualifying', 'winner_name': 'Dane Sweeny', 'loser_name': 'Seongchan Hong', 'score': '57-62-64'}, {'tournament_name': 'Shanghai, China', 'tournament_date': '2023.10.04', 'round': '2nd Round Qualifying', 'winner_name': 'Mikhail Kukushkin', 'loser_name': 'Luke Saville', 'score': '75-75'}, {'tournament_name': 'Shanghai, China', 'tournament_date': '2023.10.04', 'round': '2nd Round Qualifying', 'winner_name': 'Philip Sekulic', 'loser_name': 'Arthur Weber', 'score': '26-63-765'}, {'tournament_name': 'Shanghai, China', 'tournament_date': '2023.10.04', 'round': '2nd Round Qualifying', 'winner_name': 'Chun-Hsin Tseng', 'loser_name': 'Yasutaka Uchiyama', 'score': '763-36-64'}, {'tournament_name': 'Shanghai, China', 'tournament_date': '2023.10.04', 'round': '2nd Round Qualifying', 'winner_name': 'Beibit Zhukayev', 'loser_name': 'Dominik Palan', 'score': '766-46-764'}, {'tournament_name': 'Shanghai, China', 'tournament_date': '2023.10.04', 'round': '1st Round Qualifying', 'winner_name': 'Rinky Hijikata', 'loser_name': 'Marek Gengel', 'score': '63-36-768'}, {'tournament_name': 'Shanghai, China', 'tournament_date': '2023.10.04', 'round': '1st Round Qualifying', 'winner_name': 'Aleksandar Kovacevic', 'loser_name': 'Alexey Zakharov', 'score': '767-63'}, {'tournament_name': 'Shanghai, China', 'tournament_date': '2023.10.04', 'round': '1st Round Qualifying', 'winner_name': 'James Duckworth', 'loser_name': 'Mikalai Haliak', 'score': '63-64'}, {'tournament_name': 'Shanghai, China', 'tournament_date': '2023.10.04', 'round': '1st Round Qualifying', 'winner_name': 'Marc Polmans', 'loser_name': 'Alibek Kachmazov', 'score': '62-63'}, {'tournament_name': 'Shanghai, China', 'tournament_date': '2023.10.04', 'round': '1st Round Qualifying', 'winner_name': 'Terence Atmane', 'loser_name': 'Hiroki Moriya', 'score': '46-61-63'}, {'tournament_name': 'Shanghai, China', 'tournament_date': '2023.10.04', 'round': '1st Round Qualifying', 'winner_name': 'Arthur Weber', 'loser_name': 'Sho Shimabukuro', 'score': '762-64'}, {'tournament_name': 'Shanghai, China', 'tournament_date': '2023.10.04', 'round': '1st Round Qualifying', 'winner_name': 'Dominik Palan', 'loser_name': 'Lloyd Harris', 'score': '6710-62-766'}, {'tournament_name': 'Shanghai, China', 'tournament_date': '2023.10.04', 'round': '1st Round Qualifying', 'winner_name': 'Luke Saville', 'loser_name': 'Sumit Nagal', 'score': '57-62-64'}, {'tournament_name': 'Shanghai, China', 'tournament_date': '2023.10.04', 'round': '1st Round Qualifying', 'winner_name': 'Yu Hsiou Hsu', 'loser_name': 'Miljan Zekic', 'score': '75-75'}, {'tournament_name': 'Shanghai, China', 'tournament_date': '2023.10.04', 'round': '1st Round Qualifying', 'winner_name': 'Tung-Lin Wu', 'loser_name': 'Egor Gerasimov', 'score': '26-63-765'}, {'tournament_name': 'Shanghai, China', 'tournament_date': '2023.10.04', 'round': '1st Round Qualifying', 'winner_name': 'Chun-Hsin Tseng', 'loser_name': 'Shintaro Mochizuki', 'score': '763-36-64'}, {'tournament_name': 'Shanghai, China', 'tournament_date': '2023.10.04', 'round': '1st Round Qualifying', 'winner_name': 'Seongchan Hong', 'loser_name': 'Ergi Kirkin', 'score': '766-46-764'}, {'tournament_name': 'Shanghai, China', 'tournament_date': '2023.10.04', 'round': '1st Round Qualifying', 'winner_name': 'Li Tu', 'loser_name': 'Colin Sinclair', 'score': '75-766'}, {'tournament_name': 'Shanghai, China', 'tournament_date': '2023.10.04', 'round': '1st Round Qualifying', 'winner_name': 'Yasutaka Uchiyama', 'loser_name': 'Evgeny Donskoy', 'score': '63-57-63'}, {'tournament_name': 'Shanghai, China', 'tournament_date': '2023.10.04', 'round': '1st Round Qualifying', 'winner_name': 'Beibit Zhukayev', 'loser_name': 'Jason Jung', 'score': '61-62'}, {'tournament_name': 'Shanghai, China', 'tournament_date': '2023.10.04', 'round': '1st Round Qualifying', 'winner_name': 'Mikhail Kukushkin', 'loser_name': 'Tao Mu', 'score': '761-64'}, {'tournament_name': 'Shanghai, China', 'tournament_date': '2023.10.04', 'round': '1st Round Qualifying', 'winner_name': 'Philip Sekulic', 'loser_name': 'Kaichi Uchida', 'score': '768-62'}, {'tournament_name': 'Shanghai, China', 'tournament_date': '2023.10.04', 'round': '1st Round Qualifying', 'winner_name': 'Stefano Napolitano', 'loser_name': 'Omar Jasika', 'score': '64-36-75'}, {'tournament_name': 'Shanghai, China', 'tournament_date': '2023.10.04', 'round': '1st Round Qualifying', 'winner_name': 'Dane Sweeny', 'loser_name': 'Hanwen Li', 'score': '63-60'}, {'tournament_name': 'Shanghai, China', 'tournament_date': '2023.10.04', 'round': '1st Round Qualifying', 'winner_name': 'Denis Yevseyev', 'loser_name': 'Yi Zhou', 'score': '36-63-62'}, {'tournament_name': 'Shanghai, China', 'tournament_date': '2023.10.04', 'round': '1st Round Qualifying', 'winner_name': 'James McCabe', 'loser_name': 'Linang Xiao', 'score': '64-36-765'}, {'tournament_name': 'Shanghai, China', 'tournament_date': '2023.10.04', 'round': '1st Round Qualifying', 'winner_name': 'Steven Diez', 'loser_name': 'Nam Hoang Ly', 'score': '64-62'}, {'tournament_name': 'Shanghai, China', 'tournament_date': '2023.10.04', 'round': '1st Round Qualifying', 'winner_name': 'Benjamin Lock', 'loser_name': 'Lorenzo Giustino', 'score': '64-677-64'}, {'tournament_name': 'Shanghai, China', 'tournament_date': '2023.10.04', 'round': '1st Round Qualifying', 'winner_name': 'Fajing Sun', 'loser_name': 'Alex Bolt', 'score': '766-64'}]\n",
            "https://www.atptour.com/en/scores/archive/shanghai/5014/2023/results https://www.atptour.com/en/scores/current/shanghai/5014//results\n"
          ]
        },
        {
          "output_type": "stream",
          "name": "stderr",
          "text": [
            "\r 14%|█▍        | 1/7 [00:07<00:45,  7.62s/it]"
          ]
        },
        {
          "output_type": "stream",
          "name": "stdout",
          "text": [
            "url                /en/tournaments/tokyo/329/overview\n",
            "tournament_name                          Tokyo, Japan\n",
            "tournament_date                            2023.10.16\n",
            "number_players                                     32\n",
            "indoor_outdoor                                Outdoor\n",
            "surface                                          Hard\n",
            "prize_money                                $2,022,700\n",
            "Name: 1630, dtype: object\n",
            "https://www.atptour.com/en/scores/archive/tokyo/329/2023/results https://www.atptour.com/en/scores/current/tokyo/329//results\n",
            "[{'tournament_name': 'Tokyo, Japan', 'tournament_date': '2023.10.16', 'round': 'Round of 32', 'winner_name': 'Aslan Karatsev', 'loser_name': 'Frances Tiafoe', 'score': '63-764'}, {'tournament_name': 'Tokyo, Japan', 'tournament_date': '2023.10.16', 'round': 'Round of 32', 'winner_name': 'Taylor Fritz', 'loser_name': 'Cameron Norrie', 'score': '64-63'}, {'tournament_name': 'Tokyo, Japan', 'tournament_date': '2023.10.16', 'round': 'Round of 32', 'winner_name': 'Casper Ruud', 'loser_name': 'Yosuke Watanuki', 'score': '766-63'}, {'tournament_name': 'Tokyo, Japan', 'tournament_date': '2023.10.16', 'round': 'Round of 32', 'winner_name': 'Jordan Thompson', 'loser_name': 'Alexander Zverev', 'score': '63-64'}, {'tournament_name': 'Tokyo, Japan', 'tournament_date': '2023.10.16', 'round': 'Round of 32', 'winner_name': 'Alex de Minaur', 'loser_name': 'Jack Draper', 'score': '46-764-761'}, {'tournament_name': 'Tokyo, Japan', 'tournament_date': '2023.10.16', 'round': 'Round of 32', 'winner_name': 'Tommy Paul', 'loser_name': 'Daniel Altmaier', 'score': '36-61-63'}, {'tournament_name': 'Tokyo, Japan', 'tournament_date': '2023.10.16', 'round': 'Round of 32', 'winner_name': 'Alexei Popyrin', 'loser_name': 'Karen Khachanov', 'score': '64-62'}, {'tournament_name': 'Tokyo, Japan', 'tournament_date': '2023.10.16', 'round': 'Round of 32', 'winner_name': 'Felix Auger-Aliassime', 'loser_name': 'Aleksandar Vukic', 'score': '763-672-62'}, {'tournament_name': 'Tokyo, Japan', 'tournament_date': '2023.10.16', 'round': 'Round of 32', 'winner_name': 'Cristian Garin', 'loser_name': 'Sho Shimabukuro', 'score': '64-36-63'}, {'tournament_name': 'Tokyo, Japan', 'tournament_date': '2023.10.16', 'round': 'Round of 32', 'winner_name': 'Marcos Giron', 'loser_name': 'Yoshihito Nishioka', 'score': '7614-46-61'}, {'tournament_name': 'Tokyo, Japan', 'tournament_date': '2023.10.16', 'round': 'Round of 32', 'winner_name': 'Mackenzie McDonald', 'loser_name': 'Max Purcell', 'score': '75-64'}, {'tournament_name': 'Tokyo, Japan', 'tournament_date': '2023.10.16', 'round': 'Round of 32', 'winner_name': 'Shintaro Mochizuki', 'loser_name': 'Tomas Martin Etcheverry', 'score': '64-765'}, {'tournament_name': 'Tokyo, Japan', 'tournament_date': '2023.10.16', 'round': 'Round of 32', 'winner_name': 'Sebastian Ofner', 'loser_name': \"Christopher O'Connell\", 'score': '672-765-75'}, {'tournament_name': 'Tokyo, Japan', 'tournament_date': '2023.10.16', 'round': 'Round of 32', 'winner_name': 'Diego Schwartzman', 'loser_name': 'Francisco Cerundolo', 'score': '64-61'}, {'tournament_name': 'Tokyo, Japan', 'tournament_date': '2023.10.16', 'round': 'Round of 32', 'winner_name': 'Ben Shelton', 'loser_name': 'Taro Daniel', 'score': '36-64-762'}, {'tournament_name': 'Tokyo, Japan', 'tournament_date': '2023.10.16', 'round': '2nd Round Qualifying', 'winner_name': 'Cristian Garin', 'loser_name': 'Rinky Hijikata', 'score': '63-764'}, {'tournament_name': 'Tokyo, Japan', 'tournament_date': '2023.10.16', 'round': '2nd Round Qualifying', 'winner_name': 'Marcos Giron', 'loser_name': 'Yasutaka Uchiyama', 'score': '64-63'}, {'tournament_name': 'Tokyo, Japan', 'tournament_date': '2023.10.16', 'round': '2nd Round Qualifying', 'winner_name': 'Jack Draper', 'loser_name': 'Jurij Rodionov', 'score': '766-63'}, {'tournament_name': 'Tokyo, Japan', 'tournament_date': '2023.10.16', 'round': '2nd Round Qualifying', 'winner_name': 'Taro Daniel', 'loser_name': 'Rio Noguchi', 'score': '63-64'}, {'tournament_name': 'Tokyo, Japan', 'tournament_date': '2023.10.16', 'round': '1st Round Qualifying', 'winner_name': 'Rinky Hijikata', 'loser_name': 'Naoki Nakagawa', 'score': '63-764'}, {'tournament_name': 'Tokyo, Japan', 'tournament_date': '2023.10.16', 'round': '1st Round Qualifying', 'winner_name': 'Marcos Giron', 'loser_name': 'Kaichi Uchida', 'score': '64-63'}, {'tournament_name': 'Tokyo, Japan', 'tournament_date': '2023.10.16', 'round': '1st Round Qualifying', 'winner_name': 'Jack Draper', 'loser_name': 'Yuta Shimizu', 'score': '766-63'}, {'tournament_name': 'Tokyo, Japan', 'tournament_date': '2023.10.16', 'round': '1st Round Qualifying', 'winner_name': 'Taro Daniel', 'loser_name': 'Jason Jung', 'score': '63-64'}, {'tournament_name': 'Tokyo, Japan', 'tournament_date': '2023.10.16', 'round': '1st Round Qualifying', 'winner_name': 'Cristian Garin', 'loser_name': 'Philip Sekulic', 'score': '46-764-761'}, {'tournament_name': 'Tokyo, Japan', 'tournament_date': '2023.10.16', 'round': '1st Round Qualifying', 'winner_name': 'Jurij Rodionov', 'loser_name': 'Hiroki Moriya', 'score': '36-61-63'}, {'tournament_name': 'Tokyo, Japan', 'tournament_date': '2023.10.16', 'round': '1st Round Qualifying', 'winner_name': 'Yasutaka Uchiyama', 'loser_name': 'Brandon Nakashima', 'score': '64-62'}, {'tournament_name': 'Tokyo, Japan', 'tournament_date': '2023.10.16', 'round': '1st Round Qualifying', 'winner_name': 'Rio Noguchi', 'loser_name': 'Tung-Lin Wu', 'score': '763-672-62'}]\n",
            "https://www.atptour.com/en/scores/archive/tokyo/329/2023/results https://www.atptour.com/en/scores/current/tokyo/329//results\n"
          ]
        },
        {
          "output_type": "stream",
          "name": "stderr",
          "text": [
            "\r 29%|██▊       | 2/7 [00:09<00:21,  4.25s/it]"
          ]
        },
        {
          "output_type": "stream",
          "name": "stdout",
          "text": [
            "url                /en/tournaments/stockholm/429/overview\n",
            "tournament_name                         Stockholm, Sweden\n",
            "tournament_date                                2023.10.16\n",
            "number_players                                         28\n",
            "indoor_outdoor                                     Indoor\n",
            "surface                                              Hard\n",
            "prize_money                                      €750,950\n",
            "Name: 1631, dtype: object\n",
            "https://www.atptour.com/en/scores/archive/stockholm/429/2023/results https://www.atptour.com/en/scores/current/stockholm/429//results\n",
            "[{'tournament_name': 'Stockholm, Sweden', 'tournament_date': '2023.10.16', 'round': 'Round of 32', 'winner_name': 'Pavel Kotov', 'loser_name': 'Christopher Eubanks', 'score': '672-63-765'}, {'tournament_name': 'Stockholm, Sweden', 'tournament_date': '2023.10.16', 'round': 'Round of 32', 'winner_name': 'J.J. Wolf', 'loser_name': 'Sebastian Baez', 'score': '765-62'}, {'tournament_name': 'Stockholm, Sweden', 'tournament_date': '2023.10.16', 'round': 'Round of 32', 'winner_name': 'Dino Prizmic', 'loser_name': 'Jiri Lehecka', 'score': '63-75'}, {'tournament_name': 'Stockholm, Sweden', 'tournament_date': '2023.10.16', 'round': 'Round of 32', 'winner_name': 'Miomir Kecmanovic', 'loser_name': 'Karl Friberg', 'score': '64-62'}, {'tournament_name': 'Stockholm, Sweden', 'tournament_date': '2023.10.16', 'round': 'Round of 32', 'winner_name': 'Emil Ruusuvuori', 'loser_name': 'Benjamin Hassan', 'score': '62-61'}, {'tournament_name': 'Stockholm, Sweden', 'tournament_date': '2023.10.16', 'round': 'Round of 32', 'winner_name': 'Lorenzo Sonego', 'loser_name': 'Dusan Lajovic', 'score': '46-63-64'}, {'tournament_name': 'Stockholm, Sweden', 'tournament_date': '2023.10.16', 'round': 'Round of 32', 'winner_name': 'Elias Ymer', 'loser_name': 'Roberto Bautista Agut', 'score': '64-64'}, {'tournament_name': 'Stockholm, Sweden', 'tournament_date': '2023.10.16', 'round': '2nd Round Qualifying', 'winner_name': 'Dino Prizmic', 'loser_name': 'Tomas Machac', 'score': '672-63-765'}, {'tournament_name': 'Stockholm, Sweden', 'tournament_date': '2023.10.16', 'round': '2nd Round Qualifying', 'winner_name': 'Pavel Kotov', 'loser_name': 'Otto Virtanen', 'score': '765-62'}, {'tournament_name': 'Stockholm, Sweden', 'tournament_date': '2023.10.16', 'round': '2nd Round Qualifying', 'winner_name': 'Filip Misolic', 'loser_name': 'Liam Broady', 'score': '63-75'}, {'tournament_name': 'Stockholm, Sweden', 'tournament_date': '2023.10.16', 'round': '2nd Round Qualifying', 'winner_name': 'Benjamin Hassan', 'loser_name': 'Radu Albot', 'score': '64-62'}, {'tournament_name': 'Stockholm, Sweden', 'tournament_date': '2023.10.16', 'round': '1st Round Qualifying', 'winner_name': 'Tomas Machac', 'loser_name': 'Duje Ajdukovic', 'score': '672-63-765'}, {'tournament_name': 'Stockholm, Sweden', 'tournament_date': '2023.10.16', 'round': '1st Round Qualifying', 'winner_name': 'Pavel Kotov', 'loser_name': 'Vitaliy Sachko', 'score': '765-62'}, {'tournament_name': 'Stockholm, Sweden', 'tournament_date': '2023.10.16', 'round': '1st Round Qualifying', 'winner_name': 'Liam Broady', 'loser_name': 'Sebastian Eriksson', 'score': '63-75'}, {'tournament_name': 'Stockholm, Sweden', 'tournament_date': '2023.10.16', 'round': '1st Round Qualifying', 'winner_name': 'Radu Albot', 'loser_name': 'Jonathan Mridha', 'score': '64-62'}, {'tournament_name': 'Stockholm, Sweden', 'tournament_date': '2023.10.16', 'round': '1st Round Qualifying', 'winner_name': 'Otto Virtanen', 'loser_name': 'Damir Dzumhur', 'score': '62-61'}, {'tournament_name': 'Stockholm, Sweden', 'tournament_date': '2023.10.16', 'round': '1st Round Qualifying', 'winner_name': 'Dino Prizmic', 'loser_name': 'Timofey Skatov', 'score': '46-63-64'}, {'tournament_name': 'Stockholm, Sweden', 'tournament_date': '2023.10.16', 'round': '1st Round Qualifying', 'winner_name': 'Benjamin Hassan', 'loser_name': 'Andrea Vavassori', 'score': '64-64'}, {'tournament_name': 'Stockholm, Sweden', 'tournament_date': '2023.10.16', 'round': '1st Round Qualifying', 'winner_name': 'Filip Misolic', 'loser_name': 'Leandro Riedi', 'score': '764-673-63'}]\n",
            "https://www.atptour.com/en/scores/archive/stockholm/429/2023/results https://www.atptour.com/en/scores/current/stockholm/429//results\n"
          ]
        },
        {
          "output_type": "stream",
          "name": "stderr",
          "text": [
            "\r 43%|████▎     | 3/7 [00:11<00:13,  3.35s/it]"
          ]
        },
        {
          "output_type": "stream",
          "name": "stdout",
          "text": [
            "url                /en/tournaments/antwerp/7485/overview\n",
            "tournament_name                         Antwerp, Belgium\n",
            "tournament_date                               2023.10.16\n",
            "number_players                                        28\n",
            "indoor_outdoor                                    Indoor\n",
            "surface                                             Hard\n",
            "prize_money                                     €750,950\n",
            "Name: 1632, dtype: object\n",
            "https://www.atptour.com/en/scores/archive/antwerp/7485/2023/results https://www.atptour.com/en/scores/current/antwerp/7485//results\n",
            "[{'tournament_name': 'Antwerp, Belgium', 'tournament_date': '2023.10.16', 'round': 'Round of 32', 'winner_name': 'Giovanni Mpetshi Perricard', 'loser_name': 'Roberto Carballes Baena', 'score': '06-63-764'}, {'tournament_name': 'Antwerp, Belgium', 'tournament_date': '2023.10.16', 'round': 'Round of 32', 'winner_name': 'Maximilian Marterer', 'loser_name': 'Richard Gasquet', 'score': '63-64'}, {'tournament_name': 'Antwerp, Belgium', 'tournament_date': '2023.10.16', 'round': 'Round of 32', 'winner_name': 'Juan Pablo Varillas', 'loser_name': 'Fabian Marozsan', 'score': '767-64'}, {'tournament_name': 'Antwerp, Belgium', 'tournament_date': '2023.10.16', 'round': 'Round of 32', 'winner_name': 'Gregoire Barrere', 'loser_name': 'Daniel Elahi Galan', 'score': '61-765'}, {'tournament_name': 'Antwerp, Belgium', 'tournament_date': '2023.10.16', 'round': 'Round of 32', 'winner_name': 'Hugo Gaston', 'loser_name': 'Arthur Rinderknech', 'score': '767-64'}, {'tournament_name': 'Antwerp, Belgium', 'tournament_date': '2023.10.16', 'round': 'Round of 32', 'winner_name': 'David Goffin', 'loser_name': 'Quentin Halys', 'score': '64-61'}, {'tournament_name': 'Antwerp, Belgium', 'tournament_date': '2023.10.16', 'round': 'Round of 32', 'winner_name': 'Mark Lajal', 'loser_name': 'Jaume Munar', 'score': '63-64'}, {'tournament_name': 'Antwerp, Belgium', 'tournament_date': '2023.10.16', 'round': 'Round of 32', 'winner_name': 'Alexander Shevchenko', 'loser_name': 'Benjamin Bonzi', 'score': '675-765-63'}, {'tournament_name': 'Antwerp, Belgium', 'tournament_date': '2023.10.16', 'round': '2nd Round Qualifying', 'winner_name': 'Benjamin Bonzi', 'loser_name': 'Giulio Zeppieri', 'score': '06-63-764'}, {'tournament_name': 'Antwerp, Belgium', 'tournament_date': '2023.10.16', 'round': '2nd Round Qualifying', 'winner_name': 'Maximilian Marterer', 'loser_name': 'Titouan Droguet', 'score': '63-64'}, {'tournament_name': 'Antwerp, Belgium', 'tournament_date': '2023.10.16', 'round': '2nd Round Qualifying', 'winner_name': 'Alexander Blockx', 'loser_name': 'Gilles Arnaud Bailly', 'score': '767-64'}, {'tournament_name': 'Antwerp, Belgium', 'tournament_date': '2023.10.16', 'round': '2nd Round Qualifying', 'winner_name': 'Giovanni Mpetshi Perricard', 'loser_name': 'Gauthier Onclin', 'score': '61-765'}, {'tournament_name': 'Antwerp, Belgium', 'tournament_date': '2023.10.16', 'round': '1st Round Qualifying', 'winner_name': 'Benjamin Bonzi', 'loser_name': 'Oscar Otte', 'score': '06-63-764'}, {'tournament_name': 'Antwerp, Belgium', 'tournament_date': '2023.10.16', 'round': '1st Round Qualifying', 'winner_name': 'Alexander Blockx', 'loser_name': 'Hamad Medjedovic', 'score': '63-64'}, {'tournament_name': 'Antwerp, Belgium', 'tournament_date': '2023.10.16', 'round': '1st Round Qualifying', 'winner_name': 'Gauthier Onclin', 'loser_name': 'Maxime Cressy', 'score': '767-64'}, {'tournament_name': 'Antwerp, Belgium', 'tournament_date': '2023.10.16', 'round': '1st Round Qualifying', 'winner_name': 'Maximilian Marterer', 'loser_name': 'Gijs Brouwer', 'score': '61-765'}, {'tournament_name': 'Antwerp, Belgium', 'tournament_date': '2023.10.16', 'round': '1st Round Qualifying', 'winner_name': 'Giulio Zeppieri', 'loser_name': 'Hugo Grenier', 'score': '767-64'}, {'tournament_name': 'Antwerp, Belgium', 'tournament_date': '2023.10.16', 'round': '1st Round Qualifying', 'winner_name': 'Gilles Arnaud Bailly', 'loser_name': 'Pablo Llamas Ruiz', 'score': '64-61'}, {'tournament_name': 'Antwerp, Belgium', 'tournament_date': '2023.10.16', 'round': '1st Round Qualifying', 'winner_name': 'Giovanni Mpetshi Perricard', 'loser_name': 'Antoine Escoffier', 'score': '63-64'}, {'tournament_name': 'Antwerp, Belgium', 'tournament_date': '2023.10.16', 'round': '1st Round Qualifying', 'winner_name': 'Titouan Droguet', 'loser_name': 'Zizou Bergs', 'score': '675-765-63'}]\n",
            "https://www.atptour.com/en/scores/archive/antwerp/7485/2023/results https://www.atptour.com/en/scores/current/antwerp/7485//results\n"
          ]
        },
        {
          "output_type": "stream",
          "name": "stderr",
          "text": [
            "\r 57%|█████▋    | 4/7 [00:13<00:08,  2.75s/it]"
          ]
        },
        {
          "output_type": "stream",
          "name": "stdout",
          "text": [
            "url                /en/tournaments/vienna/337/overview\n",
            "tournament_name                        Vienna, Austria\n",
            "tournament_date                             2023.10.23\n",
            "number_players                                      32\n",
            "indoor_outdoor                                  Indoor\n",
            "surface                                           Hard\n",
            "prize_money                                 €2,559,790\n",
            "Name: 1633, dtype: object\n",
            "https://www.atptour.com/en/scores/archive/vienna/337/2023/results https://www.atptour.com/en/scores/current/vienna/337//results\n",
            "[{'tournament_name': 'Vienna, Austria', 'tournament_date': '2023.10.23'}]\n",
            "https://www.atptour.com/en/scores/archive/vienna/337/2023/results https://www.atptour.com/en/scores/current/vienna/337//results\n"
          ]
        },
        {
          "output_type": "stream",
          "name": "stderr",
          "text": [
            "\r 71%|███████▏  | 5/7 [00:14<00:04,  2.06s/it]"
          ]
        },
        {
          "output_type": "stream",
          "name": "stdout",
          "text": [
            "url                /en/tournaments/basel/328/overview\n",
            "tournament_name                    Basel, Switzerland\n",
            "tournament_date                            2023.10.23\n",
            "number_players                                     32\n",
            "indoor_outdoor                                 Indoor\n",
            "surface                                          Hard\n",
            "prize_money                                €2,345,955\n",
            "Name: 1634, dtype: object\n",
            "https://www.atptour.com/en/scores/archive/basel/328/2023/results https://www.atptour.com/en/scores/current/basel/328//results\n",
            "[{'tournament_name': 'Basel, Switzerland', 'tournament_date': '2023.10.23'}]\n",
            "https://www.atptour.com/en/scores/archive/basel/328/2023/results https://www.atptour.com/en/scores/current/basel/328//results\n"
          ]
        },
        {
          "output_type": "stream",
          "name": "stderr",
          "text": [
            "\r 86%|████████▌ | 6/7 [00:15<00:01,  1.62s/it]"
          ]
        },
        {
          "output_type": "stream",
          "name": "stdout",
          "text": [
            "url                /en/tournaments/paris/352/overview\n",
            "tournament_name                         Paris, France\n",
            "tournament_date                            2023.10.30\n",
            "number_players                                     56\n",
            "indoor_outdoor                                 Indoor\n",
            "surface                                          Hard\n",
            "prize_money                                €6,748,815\n",
            "Name: 1635, dtype: object\n",
            "https://www.atptour.com/en/scores/archive/paris/352/2023/results https://www.atptour.com/en/scores/current/paris/352//results\n",
            "[{'tournament_name': 'Paris, France', 'tournament_date': '2023.10.30'}]\n",
            "https://www.atptour.com/en/scores/archive/paris/352/2023/results https://www.atptour.com/en/scores/current/paris/352//results\n"
          ]
        },
        {
          "output_type": "stream",
          "name": "stderr",
          "text": [
            "100%|██████████| 7/7 [00:16<00:00,  2.41s/it]\n"
          ]
        }
      ]
    },
    {
      "cell_type": "code",
      "source": [
        "# scrapping_tournament=html_elements_from_url(\"https://www.atptour.com/en/scores/current/antwerp/7485/results\",\"div\",['scores-results-content'])[\"scores-results-content\"]\n",
        "# # https://www.atptour.com/en/scores/current/tokyo/329/results\n",
        "# game_dict={}\n",
        "# if len(scrapping_tournament)>0:\n",
        "#     scrapping_tournament=scrapping_tournament[0]\n",
        "#     all_round=scrapping_tournament.find_all(\"tbody\")\n",
        "#     print(len(all_round))\n",
        "#     round_tracker=0\n",
        "#     for round in all_round:\n",
        "#       all_games_round=round.find_all(\"td\",\"day-table-name\")\n",
        "#       # round_name=scrapping_tournament.find_all(\"th\")[round_tracker]\n",
        "\n",
        "#       for game_number in range(0,len(all_games_round),2):\n",
        "#         game_dict={}\n",
        "#         # game_dict[\"tournament_name\"]=tournament_row[\"tournament_name\"]\n",
        "#         # game_dict[\"tournament_date\"]=tournament_row[\"tournament_date\"]\n",
        "#         game_dict[\"round\"]=round_name.text\n",
        "#         game_dict[\"winner_name\"]=all_games_round[game_number].text.strip()\n",
        "#         game_dict[\"loser_name\"]=all_games_round[game_number+1].text.strip()\n",
        "#         game_dict[\"score\"]=re.sub(r'\\s+','-',scrapping_tournament.find_all(\"td\",\"day-table-score\")[int(game_number/2)].text.strip().replace(\"\\r\\n\",''))\n",
        "#         # list_matchs_tournament.append(game_dict)\n",
        "#         print(game_number,round_tracker,game_dict)\n",
        "\n",
        "#       round_tracker+=1"
      ],
      "metadata": {
        "colab": {
          "base_uri": "https://localhost:8080/"
        },
        "id": "WIvWUHLyPGTu",
        "outputId": "a33b1f59-2809-43a2-e8e8-00a5e92d8ce0"
      },
      "execution_count": 41,
      "outputs": [
        {
          "output_type": "stream",
          "name": "stdout",
          "text": [
            "3\n",
            "0 0 {'round': '1st Round Qualifying', 'winner_name': 'Maximilian Marterer', 'loser_name': 'Richard Gasquet', 'score': '63-64'}\n",
            "2 0 {'round': '1st Round Qualifying', 'winner_name': 'Giovanni Mpetshi Perricard', 'loser_name': 'Roberto Carballes Baena', 'score': '06-63-764'}\n",
            "4 0 {'round': '1st Round Qualifying', 'winner_name': 'Juan Pablo Varillas', 'loser_name': 'Fabian Marozsan', 'score': '767-64'}\n",
            "6 0 {'round': '1st Round Qualifying', 'winner_name': 'Gregoire Barrere', 'loser_name': 'Daniel Elahi Galan', 'score': '61-765'}\n",
            "8 0 {'round': '1st Round Qualifying', 'winner_name': 'Hugo Gaston', 'loser_name': 'Arthur Rinderknech', 'score': '767-64'}\n",
            "10 0 {'round': '1st Round Qualifying', 'winner_name': 'David Goffin', 'loser_name': 'Quentin Halys', 'score': '64-61'}\n",
            "12 0 {'round': '1st Round Qualifying', 'winner_name': 'Mark Lajal', 'loser_name': 'Jaume Munar', 'score': '63-64'}\n",
            "14 0 {'round': '1st Round Qualifying', 'winner_name': 'Alexander Shevchenko', 'loser_name': 'Benjamin Bonzi', 'score': '675-765-63'}\n",
            "0 1 {'round': '1st Round Qualifying', 'winner_name': 'Benjamin Bonzi', 'loser_name': 'Giulio Zeppieri', 'score': '63-64'}\n",
            "2 1 {'round': '1st Round Qualifying', 'winner_name': 'Maximilian Marterer', 'loser_name': 'Titouan Droguet', 'score': '06-63-764'}\n",
            "4 1 {'round': '1st Round Qualifying', 'winner_name': 'Alexander Blockx', 'loser_name': 'Gilles Arnaud Bailly', 'score': '767-64'}\n",
            "6 1 {'round': '1st Round Qualifying', 'winner_name': 'Giovanni Mpetshi Perricard', 'loser_name': 'Gauthier Onclin', 'score': '61-765'}\n",
            "0 2 {'round': '1st Round Qualifying', 'winner_name': 'Benjamin Bonzi', 'loser_name': 'Oscar Otte', 'score': '63-64'}\n",
            "2 2 {'round': '1st Round Qualifying', 'winner_name': 'Alexander Blockx', 'loser_name': 'Hamad Medjedovic', 'score': '06-63-764'}\n",
            "4 2 {'round': '1st Round Qualifying', 'winner_name': 'Gauthier Onclin', 'loser_name': 'Maxime Cressy', 'score': '767-64'}\n",
            "6 2 {'round': '1st Round Qualifying', 'winner_name': 'Maximilian Marterer', 'loser_name': 'Gijs Brouwer', 'score': '61-765'}\n",
            "8 2 {'round': '1st Round Qualifying', 'winner_name': 'Giulio Zeppieri', 'loser_name': 'Hugo Grenier', 'score': '767-64'}\n",
            "10 2 {'round': '1st Round Qualifying', 'winner_name': 'Gilles Arnaud Bailly', 'loser_name': 'Pablo Llamas Ruiz', 'score': '64-61'}\n",
            "12 2 {'round': '1st Round Qualifying', 'winner_name': 'Giovanni Mpetshi Perricard', 'loser_name': 'Antoine Escoffier', 'score': '63-64'}\n",
            "14 2 {'round': '1st Round Qualifying', 'winner_name': 'Titouan Droguet', 'loser_name': 'Zizou Bergs', 'score': '675-765-63'}\n"
          ]
        }
      ]
    }
  ]
}