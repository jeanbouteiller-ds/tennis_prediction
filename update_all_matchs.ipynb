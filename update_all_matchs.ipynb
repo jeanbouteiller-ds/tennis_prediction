{
  "nbformat": 4,
  "nbformat_minor": 0,
  "metadata": {
    "colab": {
      "provenance": [],
      "authorship_tag": "ABX9TyN08XnjyLtFFevdgrRz+mPt",
      "include_colab_link": true
    },
    "kernelspec": {
      "name": "python3",
      "display_name": "Python 3"
    },
    "language_info": {
      "name": "python"
    }
  },
  "cells": [
    {
      "cell_type": "markdown",
      "metadata": {
        "id": "view-in-github",
        "colab_type": "text"
      },
      "source": [
        "<a href=\"https://colab.research.google.com/github/jeanbouteiller-ds/tennis_prediction/blob/main/update_all_matchs.ipynb\" target=\"_parent\"><img src=\"https://colab.research.google.com/assets/colab-badge.svg\" alt=\"Open In Colab\"/></a>"
      ]
    },
    {
      "cell_type": "code",
      "source": [
        "import subprocess\n",
        "import sys\n",
        "\n",
        "def install_package(package_name):\n",
        "    try:\n",
        "        subprocess.check_call([sys.executable, '-m', 'pip', 'install', package_name])\n",
        "        print(f\"Successfully installed {package_name}\")\n",
        "    except subprocess.CalledProcessError:\n",
        "        print(f\"Failed to install {package_name}\") # Install the PyGitHub library\n",
        "\n",
        "install_package(\"requests\")\n",
        "install_package(\"PyGitHub\")\n",
        "install_package(\"pandas\")\n",
        "install_package(\"tqdm\")"
      ],
      "metadata": {
        "colab": {
          "base_uri": "https://localhost:8080/"
        },
        "id": "oHh3Jgp5dHP_",
        "outputId": "a764be05-4eba-45f2-c704-f38a5836e07f"
      },
      "execution_count": 1,
      "outputs": [
        {
          "output_type": "stream",
          "name": "stdout",
          "text": [
            "Successfully installed requests\n",
            "Successfully installed PyGitHub\n",
            "Successfully installed pandas\n",
            "Successfully installed tqdm\n"
          ]
        }
      ]
    },
    {
      "cell_type": "code",
      "source": [
        "import requests\n",
        "import io\n",
        "import importlib.util\n",
        "import sys\n",
        "import nbformat\n",
        "import pandas\n",
        "\n",
        "# Define the URL of the nb1 notebook on GitHub\n",
        "github_url = \"https://raw.githubusercontent.com/jeanbouteiller-ds/tennis_prediction/main/functions_fixed_table.ipynb\"\n",
        "\n",
        "# Download the notebook as a raw .ipynb file\n",
        "response = requests.get(github_url)\n",
        "\n",
        "if response.status_code == 200:\n",
        "  notebook_content = response.text\n",
        "\n",
        "  # Parse the notebook content\n",
        "  notebook = nbformat.reads(notebook_content, as_version=4)\n",
        "\n",
        "  # Now you can execute the cells in the notebook\n",
        "  for cell in notebook.cells:\n",
        "      if cell.cell_type == 'code':\n",
        "          exec(cell.source)"
      ],
      "metadata": {
        "colab": {
          "base_uri": "https://localhost:8080/"
        },
        "id": "0GMw8_fEXOEX",
        "outputId": "6f3186d9-8a73-4b5a-cff2-87d0d35a26f8"
      },
      "execution_count": 2,
      "outputs": [
        {
          "output_type": "stream",
          "name": "stdout",
          "text": [
            "Successfully installed requests\n",
            "Successfully installed requests\n",
            "Successfully installed PyGitHub\n",
            "Successfully installed pandas\n",
            "Successfully installed requests\n"
          ]
        }
      ]
    },
    {
      "cell_type": "markdown",
      "source": [
        "# Games Update"
      ],
      "metadata": {
        "id": "OUz5s_lehpoW"
      }
    },
    {
      "cell_type": "code",
      "source": [
        "from tqdm import tqdm\n",
        "import re\n",
        "\n",
        "df_all_matchs=get_file_content(\"df_all_matchs.csv\")\n",
        "df_tournaments=get_file_content(\"df_tournaments.csv\")\n",
        "\n",
        "df_tournaments=df_tournaments[(pd.to_datetime(df_tournaments['tournament_date'])>=(datetime.now()-timedelta(days=15)))&\n",
        "                              (pd.to_datetime(df_tournaments['tournament_date'])<=(datetime.now()+timedelta(days=15)))]\n",
        "\n",
        "list_matchs=[]\n",
        "pct_tournaments=1\n",
        "nb_rows=int(pct_tournaments*len(df_tournaments))\n",
        "for index,row in tqdm(df_tournaments[:int(nb_rows)].iterrows(), total=nb_rows):\n",
        "  list_matchs+=find_matchs(row)\n",
        "\n",
        "games_to_add=pd.DataFrame(list_matchs).dropna(subset='winner_name')\n",
        "\n",
        "final_df=pd.concat([df_all_matchs,games_to_add]).drop_duplicates().reset_index(drop=True)\n",
        "\n",
        "add_file_github('df_all_matchs.csv',final_df.to_csv(index=False))"
      ],
      "metadata": {
        "colab": {
          "base_uri": "https://localhost:8080/"
        },
        "id": "BnoVLxI-hrd0",
        "outputId": "a3c9a5a3-52b7-4076-96a2-6628d819a6c9"
      },
      "execution_count": 31,
      "outputs": [
        {
          "output_type": "stream",
          "name": "stderr",
          "text": [
            "\r  0%|          | 0/7 [00:00<?, ?it/s]"
          ]
        },
        {
          "output_type": "stream",
          "name": "stdout",
          "text": [
            "https://www.atptour.com/en/scores/archive/shanghai/5014/2023/results https://www.atptour.com/en/scores/current/shanghai/5014//results\n"
          ]
        },
        {
          "output_type": "stream",
          "name": "stderr",
          "text": [
            "\r 14%|█▍        | 1/7 [00:02<00:14,  2.35s/it]"
          ]
        },
        {
          "output_type": "stream",
          "name": "stdout",
          "text": [
            "https://www.atptour.com/en/scores/archive/tokyo/329/2023/results https://www.atptour.com/en/scores/current/tokyo/329//results\n"
          ]
        },
        {
          "output_type": "stream",
          "name": "stderr",
          "text": [
            "\r 29%|██▊       | 2/7 [00:03<00:07,  1.54s/it]"
          ]
        },
        {
          "output_type": "stream",
          "name": "stdout",
          "text": [
            "https://www.atptour.com/en/scores/archive/stockholm/429/2023/results https://www.atptour.com/en/scores/current/stockholm/429//results\n"
          ]
        },
        {
          "output_type": "stream",
          "name": "stderr",
          "text": [
            "\r 43%|████▎     | 3/7 [00:04<00:05,  1.35s/it]"
          ]
        },
        {
          "output_type": "stream",
          "name": "stdout",
          "text": [
            "https://www.atptour.com/en/scores/archive/antwerp/7485/2023/results https://www.atptour.com/en/scores/current/antwerp/7485//results\n"
          ]
        },
        {
          "output_type": "stream",
          "name": "stderr",
          "text": [
            "\r 57%|█████▋    | 4/7 [00:05<00:03,  1.09s/it]"
          ]
        },
        {
          "output_type": "stream",
          "name": "stdout",
          "text": [
            "https://www.atptour.com/en/scores/archive/vienna/337/2023/results https://www.atptour.com/en/scores/current/vienna/337//results\n"
          ]
        },
        {
          "output_type": "stream",
          "name": "stderr",
          "text": [
            "\r 71%|███████▏  | 5/7 [00:06<00:02,  1.24s/it]"
          ]
        },
        {
          "output_type": "stream",
          "name": "stdout",
          "text": [
            "https://www.atptour.com/en/scores/archive/basel/328/2023/results https://www.atptour.com/en/scores/current/basel/328//results\n"
          ]
        },
        {
          "output_type": "stream",
          "name": "stderr",
          "text": [
            "\r 86%|████████▌ | 6/7 [00:07<00:01,  1.08s/it]"
          ]
        },
        {
          "output_type": "stream",
          "name": "stdout",
          "text": [
            "https://www.atptour.com/en/scores/archive/paris/352/2023/results https://www.atptour.com/en/scores/current/paris/352//results\n"
          ]
        },
        {
          "output_type": "stream",
          "name": "stderr",
          "text": [
            "100%|██████████| 7/7 [00:07<00:00,  1.12s/it]\n"
          ]
        }
      ]
    },
    {
      "cell_type": "code",
      "source": [
        "matchs_report=get_file_content(\"update_all_matchs_report.txt\")\n",
        "\n",
        "number_new_tournaments=len(final_df['tournament_name'].unique())-len(df_all_matchs['tournament_name'].unique())\n",
        "number_new_games=len(final_df)-len(df_all_matchs)\n",
        "time_run=datetime.now()\n",
        "\n",
        "string_return=str(time_run)+': '+str(number_new_tournaments)+' new tournaments and '+str(number_new_games)+' new games'\n",
        "matchs_report.append(string_return)\n",
        "\n",
        "add_file_github('update_all_matchs_report.txt',str(matchs_report).replace(',','\\n'))"
      ],
      "metadata": {
        "id": "WIvWUHLyPGTu"
      },
      "execution_count": 32,
      "outputs": []
    }
  ]
}