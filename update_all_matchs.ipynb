{
  "nbformat": 4,
  "nbformat_minor": 0,
  "metadata": {
    "colab": {
      "provenance": [],
      "authorship_tag": "ABX9TyMP+IYe6SmteH9AJsXTAUpG",
      "include_colab_link": true
    },
    "kernelspec": {
      "name": "python3",
      "display_name": "Python 3"
    },
    "language_info": {
      "name": "python"
    }
  },
  "cells": [
    {
      "cell_type": "markdown",
      "metadata": {
        "id": "view-in-github",
        "colab_type": "text"
      },
      "source": [
        "<a href=\"https://colab.research.google.com/github/jeanbouteiller-ds/tennis_prediction/blob/main/update_all_matchs.ipynb\" target=\"_parent\"><img src=\"https://colab.research.google.com/assets/colab-badge.svg\" alt=\"Open In Colab\"/></a>"
      ]
    },
    {
      "cell_type": "code",
      "source": [
        "import subprocess\n",
        "import sys\n",
        "\n",
        "def install_package(package_name):\n",
        "    try:\n",
        "        subprocess.check_call([sys.executable, '-m', 'pip', 'install', package_name])\n",
        "        print(f\"Successfully installed {package_name}\")\n",
        "    except subprocess.CalledProcessError:\n",
        "        print(f\"Failed to install {package_name}\") # Install the PyGitHub library\n",
        "\n",
        "install_package(\"requests\")\n",
        "install_package(\"PyGitHub\")\n",
        "install_package(\"pandas\")\n",
        "install_package(\"tqdm\")"
      ],
      "metadata": {
        "colab": {
          "base_uri": "https://localhost:8080/"
        },
        "id": "oHh3Jgp5dHP_",
        "outputId": "43fb8cd2-ec63-4d72-955a-0bc1bd61b779"
      },
      "execution_count": 1,
      "outputs": [
        {
          "output_type": "stream",
          "name": "stdout",
          "text": [
            "Successfully installed requests\n",
            "Successfully installed PyGitHub\n",
            "Successfully installed pandas\n",
            "Successfully installed tqdm\n"
          ]
        }
      ]
    },
    {
      "cell_type": "code",
      "source": [
        "import requests\n",
        "import io\n",
        "import importlib.util\n",
        "import sys\n",
        "import nbformat\n",
        "import pandas\n",
        "\n",
        "# Define the URL of the nb1 notebook on GitHub\n",
        "github_url = \"https://raw.githubusercontent.com/jeanbouteiller-ds/tennis_prediction/main/functions_fixed_table.ipynb\"\n",
        "\n",
        "# Download the notebook as a raw .ipynb file\n",
        "response = requests.get(github_url)\n",
        "\n",
        "if response.status_code == 200:\n",
        "  notebook_content = response.text\n",
        "\n",
        "  # Parse the notebook content\n",
        "  notebook = nbformat.reads(notebook_content, as_version=4)\n",
        "\n",
        "  # Now you can execute the cells in the notebook\n",
        "  for cell in notebook.cells:\n",
        "      if cell.cell_type == 'code':\n",
        "          exec(cell.source)"
      ],
      "metadata": {
        "colab": {
          "base_uri": "https://localhost:8080/"
        },
        "id": "0GMw8_fEXOEX",
        "outputId": "646f18a4-5b80-4b17-85b8-839639da921f"
      },
      "execution_count": 2,
      "outputs": [
        {
          "output_type": "stream",
          "name": "stdout",
          "text": [
            "Successfully installed requests\n",
            "Successfully installed requests\n",
            "Successfully installed PyGitHub\n",
            "Successfully installed pandas\n",
            "Successfully installed requests\n"
          ]
        }
      ]
    },
    {
      "cell_type": "markdown",
      "source": [
        "# Games Update"
      ],
      "metadata": {
        "id": "OUz5s_lehpoW"
      }
    },
    {
      "cell_type": "code",
      "source": [
        "from tqdm import tqdm\n",
        "import re\n",
        "\n",
        "df_all_matchs=get_file_content(\"df_all_matchs.csv\")\n",
        "df_tournaments=get_file_content(\"df_tournaments.csv\")\n",
        "\n",
        "df_tournaments=df_tournaments[(pd.to_datetime(df_tournaments['tournament_date'])>=(datetime.now()-timedelta(days=15)))&\n",
        "                              (pd.to_datetime(df_tournaments['tournament_date'])<=(datetime.now()+timedelta(days=15)))]\n",
        "\n",
        "list_matchs=[]\n",
        "pct_tournaments=1\n",
        "nb_rows=int(pct_tournaments*len(df_tournaments))\n",
        "for index,row in tqdm(df_tournaments[:int(nb_rows)].iterrows(), total=nb_rows):\n",
        "  list_matchs+=find_matchs(row)\n",
        "\n",
        "games_to_add=pd.DataFrame(list_matchs).dropna(subset='winner_name')\n",
        "games_to_add=games_to_add[~(games_to_add['loser_name']+games_to_add['winner_name']).isin((df_all_matchs['loser_name']+df_all_matchs['winner_name']).unique())]\n",
        "\n",
        "final_df=pd.concat([df_all_matchs,games_to_add]).reset_index(drop=True)\n",
        "\n",
        "add_file_github('df_all_matchs.csv',final_df.to_csv(index=False))"
      ],
      "metadata": {
        "colab": {
          "base_uri": "https://localhost:8080/"
        },
        "id": "BnoVLxI-hrd0",
        "outputId": "d07998b0-dcb6-4bd1-bf98-2adbdeafce6c"
      },
      "execution_count": 7,
      "outputs": [
        {
          "output_type": "stream",
          "name": "stderr",
          "text": [
            "100%|██████████| 6/6 [00:11<00:00,  1.89s/it]\n"
          ]
        }
      ]
    },
    {
      "cell_type": "code",
      "source": [
        "matchs_report=get_file_content(\"update_all_matchs_report.txt\")\n",
        "\n",
        "number_new_tournaments=len(final_df['tournament_name'].unique())-len(df_all_matchs['tournament_name'].unique())\n",
        "number_new_games=len(final_df)-len(df_all_matchs)\n",
        "time_run=datetime.now()\n",
        "\n",
        "string_return=str(time_run)+': '+str(number_new_tournaments)+' new tournaments and '+str(number_new_games)+' new games. Total Number of games: '+str(len(final_df))+' - Total number of players: '+str(len(final_df['loser_name'].unique()))\n",
        "matchs_report.append(string_return)\n",
        "\n",
        "add_file_github('update_all_matchs_report.txt',str(matchs_report).replace(',',',\\n'))"
      ],
      "metadata": {
        "id": "WIvWUHLyPGTu"
      },
      "execution_count": 9,
      "outputs": []
    }
  ]
}