{
  "nbformat": 4,
  "nbformat_minor": 0,
  "metadata": {
    "colab": {
      "provenance": []
    },
    "kernelspec": {
      "name": "python3",
      "display_name": "Python 3"
    },
    "language_info": {
      "name": "python"
    }
  },
  "cells": [
    {
      "cell_type": "code",
      "execution_count": 5,
      "metadata": {
        "colab": {
          "base_uri": "https://localhost:8080/"
        },
        "id": "X79ndvP7Ga2_",
        "outputId": "e3a4c991-ec59-45d8-aecf-b467bf170031"
      },
      "outputs": [
        {
          "output_type": "stream",
          "name": "stdout",
          "text": [
            "Drive already mounted at /content/drive; to attempt to forcibly remount, call drive.mount(\"/content/drive\", force_remount=True).\n",
            "[datetime.datetime(2023, 10, 12, 9, 9, 19, 414801)]\n"
          ]
        }
      ],
      "source": [
        "import pickle\n",
        "from google.colab import drive\n",
        "import datetime\n",
        "drive.mount('/content/drive')\n",
        "\n",
        "list_test=[datetime.datetime.now()]\n",
        "\n",
        "# Save the list to a file\n",
        "with open('drive/MyDrive/Perso/Tennis_Gambling/test.pkl', 'wb') as file:\n",
        "    pickle.dump(list_test, file)\n",
        "\n",
        "print(list_test)"
      ]
    },
    {
      "cell_type": "code",
      "source": [
        "with open('drive/MyDrive/Perso/Tennis_Gambling/test.pkl', 'rb') as file:\n",
        "    test = pickle.load(file)\n",
        "\n",
        "test"
      ],
      "metadata": {
        "colab": {
          "base_uri": "https://localhost:8080/"
        },
        "id": "RMpgAFVIITte",
        "outputId": "d3b71a6d-a4cf-462e-af2d-7750ac8dcedd"
      },
      "execution_count": 6,
      "outputs": [
        {
          "output_type": "execute_result",
          "data": {
            "text/plain": [
              "[datetime.datetime(2023, 10, 12, 9, 9, 19, 414801)]"
            ]
          },
          "metadata": {},
          "execution_count": 6
        }
      ]
    },
    {
      "cell_type": "code",
      "source": [],
      "metadata": {
        "id": "ytPm5JRrJeuf"
      },
      "execution_count": null,
      "outputs": []
    }
  ]
}