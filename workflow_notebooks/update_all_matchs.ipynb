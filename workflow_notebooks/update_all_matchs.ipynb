{
  "nbformat": 4,
  "nbformat_minor": 0,
  "metadata": {
    "colab": {
      "provenance": [],
      "authorship_tag": "ABX9TyNowuwifYkwWYZbFbTEksH9",
      "include_colab_link": true
    },
    "kernelspec": {
      "name": "python3",
      "display_name": "Python 3"
    },
    "language_info": {
      "name": "python"
    }
  },
  "cells": [
    {
      "cell_type": "markdown",
      "metadata": {
        "id": "view-in-github",
        "colab_type": "text"
      },
      "source": [
        "<a href=\"https://colab.research.google.com/github/jeanbouteiller-ds/tennis_prediction/blob/main/workflow_notebooks/update_all_matchs.ipynb\" target=\"_parent\"><img src=\"https://colab.research.google.com/assets/colab-badge.svg\" alt=\"Open In Colab\"/></a>"
      ]
    },
    {
      "cell_type": "code",
      "source": [
        "import subprocess\n",
        "import sys\n",
        "\n",
        "def install_package(package_name):\n",
        "    try:\n",
        "        subprocess.check_call([sys.executable, '-m', 'pip', 'install', package_name])\n",
        "        print(f\"Successfully installed {package_name}\")\n",
        "    except subprocess.CalledProcessError:\n",
        "        print(f\"Failed to install {package_name}\") # Install the PyGitHub library\n",
        "\n",
        "install_package(\"requests\")\n",
        "install_package(\"PyGitHub\")\n",
        "install_package(\"pandas\")\n",
        "install_package(\"tqdm\")"
      ],
      "metadata": {
        "colab": {
          "base_uri": "https://localhost:8080/"
        },
        "id": "oHh3Jgp5dHP_",
        "outputId": "1496c851-19cf-4285-a2f0-5b8ce05ea897"
      },
      "execution_count": 5,
      "outputs": [
        {
          "output_type": "stream",
          "name": "stdout",
          "text": [
            "Successfully installed requests\n",
            "Successfully installed PyGitHub\n",
            "Successfully installed pandas\n",
            "Successfully installed tqdm\n"
          ]
        }
      ]
    },
    {
      "cell_type": "code",
      "source": [
        "import requests\n",
        "import io\n",
        "import importlib.util\n",
        "import sys\n",
        "import nbformat\n",
        "import pandas\n",
        "\n",
        "# Define the URL of the nb1 notebook on GitHub\n",
        "github_url = \"https://raw.githubusercontent.com/jeanbouteiller-ds/tennis_prediction/main/functions/functions_fixed_table.ipynb\"\n",
        "\n",
        "# Download the notebook as a raw .ipynb file\n",
        "response = requests.get(github_url)\n",
        "\n",
        "if response.status_code == 200:\n",
        "  notebook_content = response.text\n",
        "\n",
        "  # Parse the notebook content\n",
        "  notebook = nbformat.reads(notebook_content, as_version=4)\n",
        "\n",
        "  # Now you can execute the cells in the notebook\n",
        "  for cell in notebook.cells:\n",
        "      if cell.cell_type == 'code':\n",
        "          exec(cell.source)"
      ],
      "metadata": {
        "colab": {
          "base_uri": "https://localhost:8080/"
        },
        "id": "0GMw8_fEXOEX",
        "outputId": "acaf6fb5-9f28-4f96-99e5-234f6758ad16"
      },
      "execution_count": 8,
      "outputs": [
        {
          "output_type": "stream",
          "name": "stdout",
          "text": [
            "Successfully installed requests\n",
            "Successfully installed requests\n",
            "Successfully installed PyGitHub\n",
            "Successfully installed pandas\n",
            "Successfully installed requests\n"
          ]
        }
      ]
    },
    {
      "cell_type": "markdown",
      "source": [
        "# Games Update"
      ],
      "metadata": {
        "id": "OUz5s_lehpoW"
      }
    },
    {
      "cell_type": "code",
      "source": [
        "from tqdm import tqdm\n",
        "import re\n",
        "\n",
        "df_all_matchs=get_file_content(\"data/df_all_matchs.csv\")\n",
        "df_incoming_matchs=get_file_content(\"data/df_incoming_matchs.csv\")\n",
        "df_tournaments=get_file_content(\"data/df_tournaments.csv\")\n",
        "\n",
        "df_tournaments=df_tournaments[(pd.to_datetime(df_tournaments['tournament_date'])>=(datetime.now()-timedelta(days=15)))&\n",
        "                              (pd.to_datetime(df_tournaments['tournament_date'])<=(datetime.now()+timedelta(days=15)))]\n",
        "\n",
        "list_matchs=[]\n",
        "list_matchs_incoming=[]\n",
        "pct_tournaments=1\n",
        "nb_rows=int(pct_tournaments*len(df_tournaments))\n",
        "for index,row in tqdm(df_tournaments[:int(nb_rows)].iterrows(), total=nb_rows):\n",
        "  tournament_url=row[\"url\"]\n",
        "  tournament_date=row[\"tournament_date\"]\n",
        "  tournament_name=row[\"tournament_name\"]\n",
        "  find_matchs_all=find_matchs(tournament_url,tournament_date,tournament_name)\n",
        "  list_matchs+=find_matchs_all[0]\n",
        "  list_matchs_incoming+=find_matchs_all[1]\n",
        "\n",
        "result = pd.merge(pd.DataFrame(list_matchs), df_all_matchs, how='left', indicator=True)\n",
        "rows_not_in_df_match = result[result['_merge'] == 'left_only'].drop(columns=['_merge'])\n",
        "\n",
        "final_df=pd.concat([df_all_matchs,rows_not_in_df_match]).reset_index(drop=True)\n",
        "incoming_games=pd.DataFrame(list_matchs_incoming)\n",
        "incoming_games[\"date_added\"]=datetime.now().strftime('%d-%m-%Y')\n",
        "\n",
        "df_incoming_matchs=pd.concat([df_incoming_matchs,incoming_games]).reset_index(drop=True)\n",
        "df_incoming_matchs=df_incoming_matchs.drop_duplicates([\"tournament_name\",\"tournament_date\",\"round\",\t\"player_1_name\",\"player_2_name\"])\n",
        "\n",
        "\n",
        "\n",
        "add_file_github('data/df_all_matchs.csv',final_df.to_csv(index=False))\n",
        "add_file_github('data/df_incoming_matchs.csv',df_incoming_matchs.to_csv(index=False))"
      ],
      "metadata": {
        "colab": {
          "base_uri": "https://localhost:8080/"
        },
        "id": "BnoVLxI-hrd0",
        "outputId": "337f50be-2279-4015-ee52-8bf2003ad18e"
      },
      "execution_count": 17,
      "outputs": [
        {
          "output_type": "stream",
          "name": "stderr",
          "text": [
            "100%|██████████| 6/6 [00:08<00:00,  1.34s/it]\n"
          ]
        }
      ]
    },
    {
      "cell_type": "code",
      "source": [
        "# matchs_report=get_file_content(\"update_all_matchs_report.txt\")\n",
        "\n",
        "# number_new_tournaments=len(final_df['tournament_name'].unique())-len(df_all_matchs['tournament_name'].unique())\n",
        "# number_new_games=len(final_df)-len(df_all_matchs)\n",
        "# time_run=datetime.now()\n",
        "\n",
        "# string_return=str(time_run)+': '+str(number_new_tournaments)+' new tournaments and '+str(number_new_games)+' new games. Total Number of games: '+str(len(final_df))+' - Total number of players: '+str(len(final_df['loser_name'].unique()))\n",
        "# matchs_report.append(string_return)\n",
        "\n",
        "# add_file_github('update_all_matchs_report.txt',str(matchs_report).replace(',',',\\n'))\n",
        "\n",
        "create_report_workflow(df_all_matchs,final_df,'reports/update_all_matchs_report.json',['loser_name'])\n"
      ],
      "metadata": {
        "id": "WIvWUHLyPGTu"
      },
      "execution_count": null,
      "outputs": []
    }
  ]
}