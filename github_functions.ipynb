{
  "cells": [
    {
      "cell_type": "markdown",
      "metadata": {
        "id": "view-in-github",
        "colab_type": "text"
      },
      "source": [
        "<a href=\"https://colab.research.google.com/github/jeanbouteiller-ds/tennis_prediction/blob/main/github_functions.ipynb\" target=\"_parent\"><img src=\"https://colab.research.google.com/assets/colab-badge.svg\" alt=\"Open In Colab\"/></a>"
      ]
    },
    {
      "cell_type": "code",
      "source": [
        "import subprocess\n",
        "import sys"
      ],
      "metadata": {
        "id": "6gHtauxrTwNz"
      },
      "execution_count": 2,
      "outputs": []
    },
    {
      "cell_type": "code",
      "execution_count": 3,
      "metadata": {
        "colab": {
          "base_uri": "https://localhost:8080/"
        },
        "id": "Gorg-TjzXeal",
        "outputId": "36048d08-3ff1-459c-af5f-c9d606c716b5"
      },
      "outputs": [
        {
          "output_type": "stream",
          "name": "stdout",
          "text": [
            "Successfully installed requests\n",
            "Successfully installed PyGitHub\n",
            "Successfully installed pandas\n"
          ]
        }
      ],
      "source": [
        "def install_package(package_name):\n",
        "    try:\n",
        "        subprocess.check_call([sys.executable, '-m', 'pip', 'install', package_name])\n",
        "        print(f\"Successfully installed {package_name}\")\n",
        "    except subprocess.CalledProcessError:\n",
        "        print(f\"Failed to install {package_name}\") # Install the PyGitHub library\n",
        "\n",
        "install_package(\"requests\")\n",
        "install_package(\"PyGitHub\")\n",
        "install_package(\"pandas\")"
      ]
    },
    {
      "cell_type": "code",
      "source": [
        "import requests\n",
        "import random\n",
        "from bs4 import BeautifulSoup\n",
        "\n",
        "from datetime import datetime, timedelta\n",
        "\n",
        "import os\n",
        "from github import Github\n",
        "from io import StringIO\n"
      ],
      "metadata": {
        "id": "4uiY8VTA6kN2"
      },
      "execution_count": 4,
      "outputs": []
    },
    {
      "cell_type": "code",
      "source": [
        "# Replace these with your GitHub credentials\n",
        "username = \"jeanbouteiller-ds\"\n",
        "\n",
        "github_url = \"https://raw.githubusercontent.com/jeanbouteiller-ds/tennis_prediction/main/password.txt\"\n",
        "response = requests.get(github_url)\n",
        "\n",
        "password= response.text.replace('\\n','')\n",
        "repository_name = \"tennis_prediction\"\n",
        "branch_name = \"main\"  # Replace with your branch name\n",
        "\n",
        "\n",
        "# Initialize the GitHub client\n",
        "g = Github(username, password)\n",
        "\n",
        "# Access the desired repository\n",
        "repo = g.get_user().get_repo(repository_name)\n",
        "\n",
        "\n",
        "def add_file_github(file_name,file_content):\n",
        "  try:\n",
        "      file = repo.get_contents(file_name, ref=branch_name)\n",
        "      sha = file.sha\n",
        "  except Exception as e:\n",
        "      sha = None\n",
        "\n",
        "  if sha:\n",
        "      repo.update_file(file_name, \"Update file\", file_content, sha, branch_name)\n",
        "      # print(f\"Updated {file_name} in {repository_name}\")\n",
        "  else:\n",
        "      repo.create_file(file_name, \"Create file\", file_content, branch_name)\n",
        "      # print(f\"Created {file_name} in {repository_name}\")\n",
        "\n",
        "def get_file_content(file_name):\n",
        "  file_content = repo.get_contents(file_name, ref=branch_name)\n",
        "  file_content = file_content.decoded_content.decode(\"utf-8\")\n",
        "  if file_name.split('.')[1]=='txt':\n",
        "    file_content=eval(file_content)\n",
        "    return(file_content)\n",
        "  if file_name.split('.')[1]=='csv':\n",
        "    file_content=pd.read_csv(StringIO(file_content))\n",
        "    return(file_content)"
      ],
      "metadata": {
        "id": "KnltnHuj_0Fy"
      },
      "execution_count": 5,
      "outputs": []
    }
  ],
  "metadata": {
    "colab": {
      "provenance": [],
      "mount_file_id": "1eKWlpyRPemghzmN8X1cYFW6MOJTJpUDm",
      "authorship_tag": "ABX9TyN//Q5m0Co4sF3xCjGhbCoc",
      "include_colab_link": true
    },
    "kernelspec": {
      "display_name": "Python 3",
      "name": "python3"
    },
    "language_info": {
      "name": "python"
    }
  },
  "nbformat": 4,
  "nbformat_minor": 0
}