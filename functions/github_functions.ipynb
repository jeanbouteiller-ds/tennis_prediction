{
  "cells": [
    {
      "cell_type": "markdown",
      "metadata": {
        "id": "view-in-github",
        "colab_type": "text"
      },
      "source": [
        "<a href=\"https://colab.research.google.com/github/jeanbouteiller-ds/tennis_prediction/blob/main/functions/github_functions.ipynb\" target=\"_parent\"><img src=\"https://colab.research.google.com/assets/colab-badge.svg\" alt=\"Open In Colab\"/></a>"
      ]
    },
    {
      "cell_type": "code",
      "source": [
        "import subprocess\n",
        "import sys"
      ],
      "metadata": {
        "id": "6gHtauxrTwNz"
      },
      "execution_count": 1,
      "outputs": []
    },
    {
      "cell_type": "code",
      "execution_count": 2,
      "metadata": {
        "colab": {
          "base_uri": "https://localhost:8080/"
        },
        "id": "Gorg-TjzXeal",
        "outputId": "3a2b9e8c-6239-4b81-87ff-d6379fcce8f6"
      },
      "outputs": [
        {
          "output_type": "stream",
          "name": "stdout",
          "text": [
            "Successfully installed requests\n",
            "Successfully installed PyGitHub\n",
            "Successfully installed pandas\n"
          ]
        }
      ],
      "source": [
        "def install_package(package_name):\n",
        "    try:\n",
        "        subprocess.check_call([sys.executable, '-m', 'pip', 'install', package_name])\n",
        "        print(f\"Successfully installed {package_name}\")\n",
        "    except subprocess.CalledProcessError:\n",
        "        print(f\"Failed to install {package_name}\") # Install the PyGitHub library\n",
        "\n",
        "install_package(\"requests\")\n",
        "install_package(\"PyGitHub\")\n",
        "install_package(\"pandas\")"
      ]
    },
    {
      "cell_type": "code",
      "source": [
        "import requests\n",
        "import random\n",
        "from bs4 import BeautifulSoup\n",
        "\n",
        "from datetime import datetime, timedelta\n",
        "\n",
        "import os\n",
        "from github import Github\n",
        "from io import StringIO\n",
        "\n",
        "import json\n",
        "\n"
      ],
      "metadata": {
        "id": "4uiY8VTA6kN2"
      },
      "execution_count": 16,
      "outputs": []
    },
    {
      "cell_type": "code",
      "source": [
        "# Replace these with your GitHub credentials\n",
        "username = \"jeanbouteiller-ds\"\n",
        "\n",
        "github_url = \"https://raw.githubusercontent.com/jeanbouteiller-ds/tennis_prediction/main/password.txt\"\n",
        "response = requests.get(github_url)\n",
        "\n",
        "password= response.text.replace('\\n','')\n",
        "repository_name = \"tennis_prediction\"\n",
        "branch_name = \"main\"  # Replace with your branch name\n",
        "\n",
        "\n",
        "# Initialize the GitHub client\n",
        "g = Github(username, password)\n",
        "\n",
        "# Access the desired repository\n",
        "repo = g.get_user().get_repo(repository_name)\n",
        "\n",
        "\n",
        "def add_file_github(file_name,file_content):\n",
        "  try:\n",
        "      file = repo.get_contents(file_name, ref=branch_name)\n",
        "      sha = file.sha\n",
        "  except Exception as e:\n",
        "      sha = None\n",
        "  if sha:\n",
        "      repo.update_file(file_name, \"Update file\", file_content, sha, branch_name)\n",
        "      # print(f\"Updated {file_name} in {repository_name}\")\n",
        "  else:\n",
        "      repo.create_file(file_name, \"Create file\", file_content, branch_name)\n",
        "      # print(f\"Created {file_name} in {repository_name}\")\n",
        "\n",
        "def download_file_from_github(file_url):\n",
        "    response = requests.get(file_url)\n",
        "    return response.content\n",
        "\n",
        "\n",
        "def get_file_content(file_name):\n",
        "  file_content=download_file_from_github(\"https://raw.githubusercontent.com/jeanbouteiller-ds/tennis_prediction/main/\"+file_name)\n",
        "  if file_name.split('.')[1]=='txt'  :\n",
        "    file_content=str(file_content).strip()\n",
        "    return(file_content)\n",
        "  if file_name.split('.')[1]=='csv':\n",
        "    file_content=pd.read_csv(io.BytesIO(file_content))\n",
        "    return(file_content)\n",
        "  if file_name.endswith('.json'):\n",
        "        # If the file is a JSON file, parse its content and return a list\n",
        "    try:\n",
        "        file_content_list = json.loads(file_content)\n",
        "        return file_content_list\n",
        "    except json.JSONDecodeError as e:\n",
        "        print(f\"Error parsing JSON file {file_name}: {e}\")\n",
        "        return None\n"
      ],
      "metadata": {
        "id": "KnltnHuj_0Fy"
      },
      "execution_count": 26,
      "outputs": []
    },
    {
      "cell_type": "code",
      "source": [
        "get_file_content(\"update_all_matchs_report.json\")"
      ],
      "metadata": {
        "id": "neuWhhjkuiIg",
        "outputId": "427382b5-b954-4e75-951f-13835fa4548d",
        "colab": {
          "base_uri": "https://localhost:8080/"
        }
      },
      "execution_count": 27,
      "outputs": [
        {
          "output_type": "execute_result",
          "data": {
            "text/plain": [
              "[]"
            ]
          },
          "metadata": {},
          "execution_count": 27
        }
      ]
    }
  ],
  "metadata": {
    "colab": {
      "provenance": [],
      "mount_file_id": "1eKWlpyRPemghzmN8X1cYFW6MOJTJpUDm",
      "authorship_tag": "ABX9TyOBoq4BveEwsdqzUKjBig6Y",
      "include_colab_link": true
    },
    "kernelspec": {
      "display_name": "Python 3",
      "name": "python3"
    },
    "language_info": {
      "name": "python"
    }
  },
  "nbformat": 4,
  "nbformat_minor": 0
}