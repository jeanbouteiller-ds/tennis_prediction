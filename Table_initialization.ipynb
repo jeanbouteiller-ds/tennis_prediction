{
  "nbformat": 4,
  "nbformat_minor": 0,
  "metadata": {
    "colab": {
      "provenance": [],
      "authorship_tag": "ABX9TyM0RyrKgiQQx6lrz/v6SO3f",
      "include_colab_link": true
    },
    "kernelspec": {
      "name": "python3",
      "display_name": "Python 3"
    },
    "language_info": {
      "name": "python"
    }
  },
  "cells": [
    {
      "cell_type": "markdown",
      "metadata": {
        "id": "view-in-github",
        "colab_type": "text"
      },
      "source": [
        "<a href=\"https://colab.research.google.com/github/jeanbouteiller-ds/tennis_prediction/blob/main/Table_initialization.ipynb\" target=\"_parent\"><img src=\"https://colab.research.google.com/assets/colab-badge.svg\" alt=\"Open In Colab\"/></a>"
      ]
    },
    {
      "cell_type": "code",
      "execution_count": 66,
      "metadata": {
        "colab": {
          "base_uri": "https://localhost:8080/"
        },
        "id": "k7w9-KyhTAtX",
        "outputId": "3cac4d6e-7930-48c2-eea4-1402986cd473"
      },
      "outputs": [
        {
          "output_type": "stream",
          "name": "stdout",
          "text": [
            "Successfully installed requests\n",
            "Successfully installed requests\n",
            "Successfully installed PyGitHub\n",
            "Successfully installed pandas\n",
            "Successfully installed requests\n"
          ]
        }
      ],
      "source": [
        "import requests\n",
        "import io\n",
        "import importlib.util\n",
        "import sys\n",
        "import nbformat\n",
        "import pandas as pd\n",
        "\n",
        "# Define the URL of the nb1 notebook on GitHub\n",
        "github_url = \"https://raw.githubusercontent.com/jeanbouteiller-ds/tennis_prediction/main/functions/functions_fixed_table.ipynb\"\n",
        "\n",
        "# Download the notebook as a raw .ipynb file\n",
        "response = requests.get(github_url)\n",
        "\n",
        "if response.status_code == 200:\n",
        "  notebook_content = response.text\n",
        "\n",
        "  # Parse the notebook content\n",
        "  notebook = nbformat.reads(notebook_content, as_version=4)\n",
        "\n",
        "  # Now you can execute the cells in the notebook\n",
        "  for cell in notebook.cells:\n",
        "      if cell.cell_type == 'code':\n",
        "          exec(cell.source)"
      ]
    },
    {
      "cell_type": "markdown",
      "source": [
        "# Fixed Table initialisation"
      ],
      "metadata": {
        "id": "YdxHOF_Ahw-h"
      }
    },
    {
      "cell_type": "code",
      "source": [
        "start_date = datetime(1990, 1, 1)\n",
        "end_date = datetime(2023, 10, 15)\n",
        "\n",
        "list_all_names,list_all_urls_final=create_initial_list(start_date,end_date)\n",
        "\n",
        "# # Create a new file with content\n",
        "file_name_player_names = \"data/list_all_players_names.txt\"  # The name of the new file\n",
        "file_name_urls = \"data/list_all_urls.txt\"  # The name of the new file\n",
        "list_all_names_str=str(list_all_names)\n",
        "list_all_urls_str=str(list_all_urls_final)\n",
        "\n",
        "add_file_github(file_name_player_names,list_all_names_str)\n",
        "add_file_github(file_name_urls,list_all_urls_str)"
      ],
      "metadata": {
        "id": "97tsMuUrZXSb"
      },
      "execution_count": 53,
      "outputs": []
    },
    {
      "cell_type": "code",
      "source": [
        "list_player_names=get_file_content('data/list_all_players_names.txt')\n",
        "list_urls=get_file_content('data/list_all_urls.txt')\n",
        "df_fixed=create_new_fixed_table('data/df_player_fixed.csv',list_player_names,list_urls,write_csv=True)"
      ],
      "metadata": {
        "id": "it5nJkbHZaFU"
      },
      "execution_count": 47,
      "outputs": []
    },
    {
      "cell_type": "markdown",
      "source": [
        "# Tournament Table"
      ],
      "metadata": {
        "id": "d8I3iqFJhzyr"
      }
    },
    {
      "cell_type": "markdown",
      "source": [
        "Note That this code can be re-run but we don't want to recreate a new workflow fort that"
      ],
      "metadata": {
        "id": "UWTVks0z1pNb"
      }
    },
    {
      "cell_type": "code",
      "source": [
        "tournament_list=[]\n",
        "list_year=[1990 + k for k in range(35)]\n",
        "for year in list_year:\n",
        "  for element in html_elements_from_url(\"https://www.atptour.com/en/scores/results-archive?year=\"+str(year),\"tr\",[\"tourney-result\"])[\"tourney-result\"]:\n",
        "    tournament_dict={}\n",
        "    tournament_dict['url']=element.find('a').get(\"href\")\n",
        "    tournament_dict['tournament_name']=element.find('span',class_=\"tourney-location\").text.strip()\n",
        "    tournament_dict['tournament_date']=element.find('span',class_=\"tourney-dates\").text.strip()\n",
        "    tournament_dict['number_players']=element.find_all('td',class_=\"tourney-details\")[0].find_all('span',class_=\"item-value\")[0].text.strip().strip()\n",
        "    tournament_dict['indoor_outdoor']=element.find_all('td',class_=\"tourney-details\")[1].find_all('div',class_=\"item-details\")[0].text.split('\\r\\n')[1].strip()\n",
        "    tournament_dict['surface']=element.find_all('td',class_=\"tourney-details\")[1].find_all('span',class_=\"item-value\")[0].text.strip()\n",
        "    tournament_dict['prize_money']=element.find_all('td',class_=\"tourney-details fin-commit\")[0].text.strip()\n",
        "    tournament_list.append(tournament_dict)\n",
        "\n",
        "add_file_github(\"data/df_tournaments.csv\",pd.DataFrame(tournament_list).to_csv(index=False))\n"
      ],
      "metadata": {
        "id": "K0WcZXlAzxCF"
      },
      "execution_count": 48,
      "outputs": []
    },
    {
      "cell_type": "markdown",
      "source": [
        "# Matchs table"
      ],
      "metadata": {
        "id": "N66-fwJOeVVe"
      }
    },
    {
      "cell_type": "code",
      "source": [
        "import pandas as pd\n",
        "from tqdm import tqdm\n",
        "import re\n",
        "\n",
        "# df_all_matchs=pd.DataFrame(columns=get_file_content(\"data/df_all_matchs.csv\").columns)\n",
        "df_all_matchs=get_file_content(\"data/df_all_matchs.csv\")\n",
        "df_tournaments=get_file_content(\"data/df_tournaments.csv\")\n",
        "df_tournaments=df_tournaments[(~(df_tournaments['tournament_name']+df_tournaments['tournament_date']).isin((df_all_matchs['tournament_name']+df_all_matchs['tournament_date']).unique()))]\n",
        "\n",
        "list_matchs=[]\n",
        "nb_batches=10\n",
        "for k in range(nb_batches):\n",
        "  start=(k)/nb_batches\n",
        "  end=(k+1)/nb_batches\n",
        "  start_rows=int(start*len(df_tournaments))\n",
        "  end_rows=int(end*len(df_tournaments))\n",
        "\n",
        "  for index,row in tqdm(df_tournaments[start_rows:end_rows].iterrows(), total=end_rows-start_rows):\n",
        "    print(row)\n",
        "    list_matchs+=find_matchs(row)\n",
        "\n",
        "  add_file_github(\"data/df_all_matchs.csv\",pd.concat([df_all_matchs,pd.DataFrame(list_matchs)]).to_csv(index=False))"
      ],
      "metadata": {
        "id": "SvGTEm90eYIP"
      },
      "execution_count": 68,
      "outputs": []
    },
    {
      "cell_type": "markdown",
      "source": [
        "# Table Ranking"
      ],
      "metadata": {
        "id": "nSuzLgZZKbe6"
      }
    },
    {
      "cell_type": "code",
      "source": [
        "start_date = datetime(1990, 1, 1)\n",
        "end_date = datetime(2023, 10, 15)\n",
        "\n",
        "list_urls=find_list_weekly_ranking_url(start_date, end_date,nb_players_ranking=300)\n",
        "# df_all_ranking=pd.DataFrame(columns=['player_name','ranking','date'])\n",
        "df_all_ranking=get_file_content(\"data/df_all_ranking.csv\")\n",
        "\n",
        "list_urls=[k for k in list_urls if k.split(\"Date=\")[1] not in df_all_ranking[\"date\"].values]\n",
        "print(len(list_urls))\n",
        "\n",
        "for week in range(len(list_urls)):\n",
        "  weekly_ranking_url=list_urls[week]\n",
        "  df_all_ranking=pd.concat([df_all_ranking,get_ranking(weekly_ranking_url)]).reset_index(drop=True).drop_duplicates()\n",
        "\n",
        "  if week%20==0:\n",
        "    print(weekly_ranking_url)\n",
        "    add_file_github(\"data/df_all_ranking.csv\",df_all_ranking.to_csv(index=False))\n",
        "\n",
        "add_file_github(\"data/df_all_ranking.csv\",df_all_ranking.to_csv(index=False))\n"
      ],
      "metadata": {
        "id": "hLyruzWuG9I4"
      },
      "execution_count": 124,
      "outputs": []
    },
    {
      "cell_type": "code",
      "source": [
        "get_file_content(\"data/df_all_ranking.csv\")"
      ],
      "metadata": {
        "colab": {
          "base_uri": "https://localhost:8080/",
          "height": 441
        },
        "id": "HQtod6aJ1oal",
        "outputId": "2503e380-dee2-406e-991e-66f06bd9519a"
      },
      "execution_count": 127,
      "outputs": [
        {
          "output_type": "stream",
          "name": "stderr",
          "text": [
            "<string>:44: DtypeWarning: Columns (1) have mixed types. Specify dtype option on import or set low_memory=False.\n"
          ]
        },
        {
          "output_type": "execute_result",
          "data": {
            "text/plain": [
              "                         player_name ranking        date\n",
              "0                         Ivan Lendl       1  1990-01-01\n",
              "1                       Boris Becker       2  1990-01-01\n",
              "2                      Stefan Edberg       3  1990-01-01\n",
              "3                       Brad Gilbert       4  1990-01-01\n",
              "4                       John McEnroe       5  1990-01-01\n",
              "...                              ...     ...         ...\n",
              "496599              Skander Mansouri     296  2023-07-31\n",
              "496600                   Jules Marie     297  2023-07-31\n",
              "496601  Matheus Pucinelli De Almeida     298  2023-07-31\n",
              "496602               Nino Serdarusic     299  2023-07-31\n",
              "496603                 Hiroki Moriya     300  2023-07-31\n",
              "\n",
              "[496604 rows x 3 columns]"
            ],
            "text/html": [
              "\n",
              "  <div id=\"df-6e645825-77a5-41c1-a8cf-c1af2986c9e3\" class=\"colab-df-container\">\n",
              "    <div>\n",
              "<style scoped>\n",
              "    .dataframe tbody tr th:only-of-type {\n",
              "        vertical-align: middle;\n",
              "    }\n",
              "\n",
              "    .dataframe tbody tr th {\n",
              "        vertical-align: top;\n",
              "    }\n",
              "\n",
              "    .dataframe thead th {\n",
              "        text-align: right;\n",
              "    }\n",
              "</style>\n",
              "<table border=\"1\" class=\"dataframe\">\n",
              "  <thead>\n",
              "    <tr style=\"text-align: right;\">\n",
              "      <th></th>\n",
              "      <th>player_name</th>\n",
              "      <th>ranking</th>\n",
              "      <th>date</th>\n",
              "    </tr>\n",
              "  </thead>\n",
              "  <tbody>\n",
              "    <tr>\n",
              "      <th>0</th>\n",
              "      <td>Ivan Lendl</td>\n",
              "      <td>1</td>\n",
              "      <td>1990-01-01</td>\n",
              "    </tr>\n",
              "    <tr>\n",
              "      <th>1</th>\n",
              "      <td>Boris Becker</td>\n",
              "      <td>2</td>\n",
              "      <td>1990-01-01</td>\n",
              "    </tr>\n",
              "    <tr>\n",
              "      <th>2</th>\n",
              "      <td>Stefan Edberg</td>\n",
              "      <td>3</td>\n",
              "      <td>1990-01-01</td>\n",
              "    </tr>\n",
              "    <tr>\n",
              "      <th>3</th>\n",
              "      <td>Brad Gilbert</td>\n",
              "      <td>4</td>\n",
              "      <td>1990-01-01</td>\n",
              "    </tr>\n",
              "    <tr>\n",
              "      <th>4</th>\n",
              "      <td>John McEnroe</td>\n",
              "      <td>5</td>\n",
              "      <td>1990-01-01</td>\n",
              "    </tr>\n",
              "    <tr>\n",
              "      <th>...</th>\n",
              "      <td>...</td>\n",
              "      <td>...</td>\n",
              "      <td>...</td>\n",
              "    </tr>\n",
              "    <tr>\n",
              "      <th>496599</th>\n",
              "      <td>Skander Mansouri</td>\n",
              "      <td>296</td>\n",
              "      <td>2023-07-31</td>\n",
              "    </tr>\n",
              "    <tr>\n",
              "      <th>496600</th>\n",
              "      <td>Jules Marie</td>\n",
              "      <td>297</td>\n",
              "      <td>2023-07-31</td>\n",
              "    </tr>\n",
              "    <tr>\n",
              "      <th>496601</th>\n",
              "      <td>Matheus Pucinelli De Almeida</td>\n",
              "      <td>298</td>\n",
              "      <td>2023-07-31</td>\n",
              "    </tr>\n",
              "    <tr>\n",
              "      <th>496602</th>\n",
              "      <td>Nino Serdarusic</td>\n",
              "      <td>299</td>\n",
              "      <td>2023-07-31</td>\n",
              "    </tr>\n",
              "    <tr>\n",
              "      <th>496603</th>\n",
              "      <td>Hiroki Moriya</td>\n",
              "      <td>300</td>\n",
              "      <td>2023-07-31</td>\n",
              "    </tr>\n",
              "  </tbody>\n",
              "</table>\n",
              "<p>496604 rows × 3 columns</p>\n",
              "</div>\n",
              "    <div class=\"colab-df-buttons\">\n",
              "\n",
              "  <div class=\"colab-df-container\">\n",
              "    <button class=\"colab-df-convert\" onclick=\"convertToInteractive('df-6e645825-77a5-41c1-a8cf-c1af2986c9e3')\"\n",
              "            title=\"Convert this dataframe to an interactive table.\"\n",
              "            style=\"display:none;\">\n",
              "\n",
              "  <svg xmlns=\"http://www.w3.org/2000/svg\" height=\"24px\" viewBox=\"0 -960 960 960\">\n",
              "    <path d=\"M120-120v-720h720v720H120Zm60-500h600v-160H180v160Zm220 220h160v-160H400v160Zm0 220h160v-160H400v160ZM180-400h160v-160H180v160Zm440 0h160v-160H620v160ZM180-180h160v-160H180v160Zm440 0h160v-160H620v160Z\"/>\n",
              "  </svg>\n",
              "    </button>\n",
              "\n",
              "  <style>\n",
              "    .colab-df-container {\n",
              "      display:flex;\n",
              "      gap: 12px;\n",
              "    }\n",
              "\n",
              "    .colab-df-convert {\n",
              "      background-color: #E8F0FE;\n",
              "      border: none;\n",
              "      border-radius: 50%;\n",
              "      cursor: pointer;\n",
              "      display: none;\n",
              "      fill: #1967D2;\n",
              "      height: 32px;\n",
              "      padding: 0 0 0 0;\n",
              "      width: 32px;\n",
              "    }\n",
              "\n",
              "    .colab-df-convert:hover {\n",
              "      background-color: #E2EBFA;\n",
              "      box-shadow: 0px 1px 2px rgba(60, 64, 67, 0.3), 0px 1px 3px 1px rgba(60, 64, 67, 0.15);\n",
              "      fill: #174EA6;\n",
              "    }\n",
              "\n",
              "    .colab-df-buttons div {\n",
              "      margin-bottom: 4px;\n",
              "    }\n",
              "\n",
              "    [theme=dark] .colab-df-convert {\n",
              "      background-color: #3B4455;\n",
              "      fill: #D2E3FC;\n",
              "    }\n",
              "\n",
              "    [theme=dark] .colab-df-convert:hover {\n",
              "      background-color: #434B5C;\n",
              "      box-shadow: 0px 1px 3px 1px rgba(0, 0, 0, 0.15);\n",
              "      filter: drop-shadow(0px 1px 2px rgba(0, 0, 0, 0.3));\n",
              "      fill: #FFFFFF;\n",
              "    }\n",
              "  </style>\n",
              "\n",
              "    <script>\n",
              "      const buttonEl =\n",
              "        document.querySelector('#df-6e645825-77a5-41c1-a8cf-c1af2986c9e3 button.colab-df-convert');\n",
              "      buttonEl.style.display =\n",
              "        google.colab.kernel.accessAllowed ? 'block' : 'none';\n",
              "\n",
              "      async function convertToInteractive(key) {\n",
              "        const element = document.querySelector('#df-6e645825-77a5-41c1-a8cf-c1af2986c9e3');\n",
              "        const dataTable =\n",
              "          await google.colab.kernel.invokeFunction('convertToInteractive',\n",
              "                                                    [key], {});\n",
              "        if (!dataTable) return;\n",
              "\n",
              "        const docLinkHtml = 'Like what you see? Visit the ' +\n",
              "          '<a target=\"_blank\" href=https://colab.research.google.com/notebooks/data_table.ipynb>data table notebook</a>'\n",
              "          + ' to learn more about interactive tables.';\n",
              "        element.innerHTML = '';\n",
              "        dataTable['output_type'] = 'display_data';\n",
              "        await google.colab.output.renderOutput(dataTable, element);\n",
              "        const docLink = document.createElement('div');\n",
              "        docLink.innerHTML = docLinkHtml;\n",
              "        element.appendChild(docLink);\n",
              "      }\n",
              "    </script>\n",
              "  </div>\n",
              "\n",
              "\n",
              "<div id=\"df-ba9fbbaa-813a-4bc8-8143-81c22b7e0a9d\">\n",
              "  <button class=\"colab-df-quickchart\" onclick=\"quickchart('df-ba9fbbaa-813a-4bc8-8143-81c22b7e0a9d')\"\n",
              "            title=\"Suggest charts.\"\n",
              "            style=\"display:none;\">\n",
              "\n",
              "<svg xmlns=\"http://www.w3.org/2000/svg\" height=\"24px\"viewBox=\"0 0 24 24\"\n",
              "     width=\"24px\">\n",
              "    <g>\n",
              "        <path d=\"M19 3H5c-1.1 0-2 .9-2 2v14c0 1.1.9 2 2 2h14c1.1 0 2-.9 2-2V5c0-1.1-.9-2-2-2zM9 17H7v-7h2v7zm4 0h-2V7h2v10zm4 0h-2v-4h2v4z\"/>\n",
              "    </g>\n",
              "</svg>\n",
              "  </button>\n",
              "\n",
              "<style>\n",
              "  .colab-df-quickchart {\n",
              "      --bg-color: #E8F0FE;\n",
              "      --fill-color: #1967D2;\n",
              "      --hover-bg-color: #E2EBFA;\n",
              "      --hover-fill-color: #174EA6;\n",
              "      --disabled-fill-color: #AAA;\n",
              "      --disabled-bg-color: #DDD;\n",
              "  }\n",
              "\n",
              "  [theme=dark] .colab-df-quickchart {\n",
              "      --bg-color: #3B4455;\n",
              "      --fill-color: #D2E3FC;\n",
              "      --hover-bg-color: #434B5C;\n",
              "      --hover-fill-color: #FFFFFF;\n",
              "      --disabled-bg-color: #3B4455;\n",
              "      --disabled-fill-color: #666;\n",
              "  }\n",
              "\n",
              "  .colab-df-quickchart {\n",
              "    background-color: var(--bg-color);\n",
              "    border: none;\n",
              "    border-radius: 50%;\n",
              "    cursor: pointer;\n",
              "    display: none;\n",
              "    fill: var(--fill-color);\n",
              "    height: 32px;\n",
              "    padding: 0;\n",
              "    width: 32px;\n",
              "  }\n",
              "\n",
              "  .colab-df-quickchart:hover {\n",
              "    background-color: var(--hover-bg-color);\n",
              "    box-shadow: 0 1px 2px rgba(60, 64, 67, 0.3), 0 1px 3px 1px rgba(60, 64, 67, 0.15);\n",
              "    fill: var(--button-hover-fill-color);\n",
              "  }\n",
              "\n",
              "  .colab-df-quickchart-complete:disabled,\n",
              "  .colab-df-quickchart-complete:disabled:hover {\n",
              "    background-color: var(--disabled-bg-color);\n",
              "    fill: var(--disabled-fill-color);\n",
              "    box-shadow: none;\n",
              "  }\n",
              "\n",
              "  .colab-df-spinner {\n",
              "    border: 2px solid var(--fill-color);\n",
              "    border-color: transparent;\n",
              "    border-bottom-color: var(--fill-color);\n",
              "    animation:\n",
              "      spin 1s steps(1) infinite;\n",
              "  }\n",
              "\n",
              "  @keyframes spin {\n",
              "    0% {\n",
              "      border-color: transparent;\n",
              "      border-bottom-color: var(--fill-color);\n",
              "      border-left-color: var(--fill-color);\n",
              "    }\n",
              "    20% {\n",
              "      border-color: transparent;\n",
              "      border-left-color: var(--fill-color);\n",
              "      border-top-color: var(--fill-color);\n",
              "    }\n",
              "    30% {\n",
              "      border-color: transparent;\n",
              "      border-left-color: var(--fill-color);\n",
              "      border-top-color: var(--fill-color);\n",
              "      border-right-color: var(--fill-color);\n",
              "    }\n",
              "    40% {\n",
              "      border-color: transparent;\n",
              "      border-right-color: var(--fill-color);\n",
              "      border-top-color: var(--fill-color);\n",
              "    }\n",
              "    60% {\n",
              "      border-color: transparent;\n",
              "      border-right-color: var(--fill-color);\n",
              "    }\n",
              "    80% {\n",
              "      border-color: transparent;\n",
              "      border-right-color: var(--fill-color);\n",
              "      border-bottom-color: var(--fill-color);\n",
              "    }\n",
              "    90% {\n",
              "      border-color: transparent;\n",
              "      border-bottom-color: var(--fill-color);\n",
              "    }\n",
              "  }\n",
              "</style>\n",
              "\n",
              "  <script>\n",
              "    async function quickchart(key) {\n",
              "      const quickchartButtonEl =\n",
              "        document.querySelector('#' + key + ' button');\n",
              "      quickchartButtonEl.disabled = true;  // To prevent multiple clicks.\n",
              "      quickchartButtonEl.classList.add('colab-df-spinner');\n",
              "      try {\n",
              "        const charts = await google.colab.kernel.invokeFunction(\n",
              "            'suggestCharts', [key], {});\n",
              "      } catch (error) {\n",
              "        console.error('Error during call to suggestCharts:', error);\n",
              "      }\n",
              "      quickchartButtonEl.classList.remove('colab-df-spinner');\n",
              "      quickchartButtonEl.classList.add('colab-df-quickchart-complete');\n",
              "    }\n",
              "    (() => {\n",
              "      let quickchartButtonEl =\n",
              "        document.querySelector('#df-ba9fbbaa-813a-4bc8-8143-81c22b7e0a9d button');\n",
              "      quickchartButtonEl.style.display =\n",
              "        google.colab.kernel.accessAllowed ? 'block' : 'none';\n",
              "    })();\n",
              "  </script>\n",
              "</div>\n",
              "    </div>\n",
              "  </div>\n"
            ]
          },
          "metadata": {},
          "execution_count": 127
        }
      ]
    },
    {
      "cell_type": "markdown",
      "source": [
        "# Betting Data"
      ],
      "metadata": {
        "id": "vY4onBXtSaM9"
      }
    },
    {
      "cell_type": "code",
      "source": [
        "# URL of the online-hosted Excel dataset\n",
        "columns_selected=['Location','Tournament','Date','Winner','Loser']\n",
        "df_all_betting=pd.DataFrame(columns=columns_selected)\n",
        "for year in [2001+k for k in range(23)]:\n",
        "  excel_url = \"http://www.tennis-data.co.uk/\"+str(year)+\"/\"+str(year)+\".xlsx\"\n",
        "\n",
        "  # Read the Excel dataset into a Pandas DataFrame\n",
        "  df = pd.read_excel(excel_url)\n",
        "\n",
        "  odds_columns=[k for k in df.columns if k[-1]=='L' or k[-1]=='W']\n",
        "  columns_selected_year=columns_selected+odds_columns\n",
        "  # print(df.columns)\n",
        "  df=df[columns_selected_year]\n",
        "\n",
        "  # Display the first few rows of the DataFrame to verify the data\n",
        "  df_all_betting=pd.concat([df_all_betting,df]).reset_index(drop=True)\n",
        "\n",
        "add_file_github(\"data/df_all_betting.csv\",df_all_betting.to_csv(index=False))\n"
      ],
      "metadata": {
        "id": "UHFa4wJHSPuE",
        "outputId": "b3b7588c-3501-43db-9730-835279080de7",
        "colab": {
          "base_uri": "https://localhost:8080/"
        }
      },
      "execution_count": 150,
      "outputs": [
        {
          "output_type": "stream",
          "name": "stderr",
          "text": [
            "/usr/local/lib/python3.10/dist-packages/openpyxl/worksheet/_reader.py:329: UserWarning: Unknown extension is not supported and will be removed\n",
            "  warn(msg)\n",
            "/usr/local/lib/python3.10/dist-packages/openpyxl/worksheet/_reader.py:329: UserWarning: Unknown extension is not supported and will be removed\n",
            "  warn(msg)\n",
            "/usr/local/lib/python3.10/dist-packages/openpyxl/worksheet/_reader.py:329: UserWarning: Unknown extension is not supported and will be removed\n",
            "  warn(msg)\n",
            "/usr/local/lib/python3.10/dist-packages/openpyxl/worksheet/_reader.py:329: UserWarning: Unknown extension is not supported and will be removed\n",
            "  warn(msg)\n"
          ]
        }
      ]
    }
  ]
}