{
  "nbformat": 4,
  "nbformat_minor": 0,
  "metadata": {
    "colab": {
      "provenance": [],
      "authorship_tag": "ABX9TyMLc05gvcCvaF9QjIyXH5wH",
      "include_colab_link": true
    },
    "kernelspec": {
      "name": "python3",
      "display_name": "Python 3"
    },
    "language_info": {
      "name": "python"
    }
  },
  "cells": [
    {
      "cell_type": "markdown",
      "metadata": {
        "id": "view-in-github",
        "colab_type": "text"
      },
      "source": [
        "<a href=\"https://colab.research.google.com/github/jeanbouteiller-ds/tennis_prediction/blob/main/update_fixed_table.ipynb\" target=\"_parent\"><img src=\"https://colab.research.google.com/assets/colab-badge.svg\" alt=\"Open In Colab\"/></a>"
      ]
    },
    {
      "cell_type": "code",
      "source": [
        "def install_package(package_name):\n",
        "    try:\n",
        "        subprocess.check_call([sys.executable, '-m', 'pip', 'install', package_name])\n",
        "        print(f\"Successfully installed {package_name}\")\n",
        "    except subprocess.CalledProcessError:\n",
        "        print(f\"Failed to install {package_name}\") # Install the PyGitHub library\n",
        "\n",
        "install_package(\"requests\")\n",
        "install_package(\"PyGitHub\")\n",
        "install_package(\"pandas\")"
      ],
      "metadata": {
        "id": "oHh3Jgp5dHP_"
      },
      "execution_count": null,
      "outputs": []
    },
    {
      "cell_type": "code",
      "source": [
        "import requests\n",
        "import io\n",
        "import importlib.util\n",
        "import sys\n",
        "import nbformat\n",
        "import pandas\n",
        "\n",
        "# Define the URL of the nb1 notebook on GitHub\n",
        "github_url = \"https://raw.githubusercontent.com/jeanbouteiller-ds/tennis_prediction/main/functions_fixed_table.ipynb\"\n",
        "\n",
        "# Download the notebook as a raw .ipynb file\n",
        "response = requests.get(github_url)\n",
        "\n",
        "if response.status_code == 200:\n",
        "  notebook_content = response.text\n",
        "\n",
        "  # Parse the notebook content\n",
        "  notebook = nbformat.reads(notebook_content, as_version=4)\n",
        "\n",
        "  # Now you can execute the cells in the notebook\n",
        "  for cell in notebook.cells:\n",
        "      if cell.cell_type == 'code':\n",
        "          exec(cell.source)"
      ],
      "metadata": {
        "colab": {
          "base_uri": "https://localhost:8080/"
        },
        "id": "0GMw8_fEXOEX",
        "outputId": "6aa274be-7fcb-4f60-eb1a-6a19f2db3677"
      },
      "execution_count": 2,
      "outputs": [
        {
          "output_type": "stream",
          "name": "stdout",
          "text": [
            "Successfully installed requests\n",
            "Successfully installed PyGitHub\n",
            "Successfully installed pandas\n"
          ]
        }
      ]
    },
    {
      "cell_type": "markdown",
      "source": [
        "# Fixed Table Update"
      ],
      "metadata": {
        "id": "elfdfQo4VQ_5"
      }
    },
    {
      "cell_type": "code",
      "source": [
        "list_urls=get_file_content('list_all_urls.txt')\n",
        "list_player_names=get_file_content('list_all_players_names.txt')\n",
        "fixed_table=get_file_content('df_player_fixed.csv')\n",
        "\n",
        "url_ranking='https://www.atptour.com/en/rankings/singles?rankRange=1-200'\n",
        "\n",
        "list_player_names_new,list_urls_new=players_from_url(url_ranking)\n",
        "list_player_names_new=[k for k in list_player_names_new if k not in list_player_names]\n",
        "list_urls_new=[k for k in list_urls_new if k not in list_urls]\n",
        "\n",
        "print(len(list_urls_new),len(list_player_names_new))\n",
        "\n",
        "df_new=create_new_fixed_table('', list_player_names_new, list_urls_new)"
      ],
      "metadata": {
        "colab": {
          "base_uri": "https://localhost:8080/"
        },
        "id": "xbf1S32ouBJy",
        "outputId": "ff937deb-2785-4f9b-82c3-48054a9e399d"
      },
      "execution_count": 84,
      "outputs": [
        {
          "output_type": "stream",
          "name": "stdout",
          "text": [
            "0 0\n"
          ]
        }
      ]
    },
    {
      "cell_type": "code",
      "source": [
        "import pandas as pd\n",
        "\n",
        "df_fixed_all=pd.concat([fixed_table,df_new])\n",
        "list_player_names_all=list_player_names_new+list_player_names\n",
        "list_urls_all=list_urls_new+list_urls\n",
        "\n",
        "add_file_github('list_all_urls.txt',str(list_urls_all))\n",
        "add_file_github('list_all_players_names.txt',str(list_player_names_all))\n",
        "add_file_github('df_player_fixed.csv',df_fixed_all.to_csv(index=False))\n"
      ],
      "metadata": {
        "id": "Eq5mM_NOg1gU"
      },
      "execution_count": 85,
      "outputs": []
    }
  ]
}