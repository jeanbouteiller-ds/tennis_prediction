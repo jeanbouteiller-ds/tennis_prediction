{
  "nbformat": 4,
  "nbformat_minor": 0,
  "metadata": {
    "colab": {
      "provenance": [],
      "authorship_tag": "ABX9TyMVWuTguhBddM9xMAfS24zD",
      "include_colab_link": true
    },
    "kernelspec": {
      "name": "python3",
      "display_name": "Python 3"
    },
    "language_info": {
      "name": "python"
    }
  },
  "cells": [
    {
      "cell_type": "markdown",
      "metadata": {
        "id": "view-in-github",
        "colab_type": "text"
      },
      "source": [
        "<a href=\"https://colab.research.google.com/github/jeanbouteiller-ds/tennis_prediction/blob/main/update_fixed_table.ipynb\" target=\"_parent\"><img src=\"https://colab.research.google.com/assets/colab-badge.svg\" alt=\"Open In Colab\"/></a>"
      ]
    },
    {
      "cell_type": "code",
      "source": [
        "import subprocess\n",
        "import sys\n",
        "\n",
        "def install_package(package_name):\n",
        "    try:\n",
        "        subprocess.check_call([sys.executable, '-m', 'pip', 'install', package_name])\n",
        "        print(f\"Successfully installed {package_name}\")\n",
        "    except subprocess.CalledProcessError:\n",
        "        print(f\"Failed to install {package_name}\") # Install the PyGitHub library\n",
        "\n",
        "install_package(\"requests\")\n",
        "install_package(\"PyGitHub\")\n",
        "install_package(\"pandas\")"
      ],
      "metadata": {
        "colab": {
          "base_uri": "https://localhost:8080/"
        },
        "id": "oHh3Jgp5dHP_",
        "outputId": "442814d2-f6cd-4b37-9805-947e2a25d06d"
      },
      "execution_count": null,
      "outputs": [
        {
          "output_type": "stream",
          "name": "stdout",
          "text": [
            "Successfully installed requests\n",
            "Successfully installed PyGitHub\n",
            "Successfully installed pandas\n"
          ]
        }
      ]
    },
    {
      "cell_type": "code",
      "source": [
        "import requests\n",
        "import io\n",
        "import importlib.util\n",
        "import sys\n",
        "import nbformat\n",
        "import pandas\n",
        "\n",
        "# Define the URL of the nb1 notebook on GitHub\n",
        "github_url = \"https://raw.githubusercontent.com/jeanbouteiller-ds/tennis_prediction/main/functions_fixed_table.ipynb\"\n",
        "\n",
        "# Download the notebook as a raw .ipynb file\n",
        "response = requests.get(github_url)\n",
        "\n",
        "if response.status_code == 200:\n",
        "  notebook_content = response.text\n",
        "\n",
        "  # Parse the notebook content\n",
        "  notebook = nbformat.reads(notebook_content, as_version=4)\n",
        "\n",
        "  # Now you can execute the cells in the notebook\n",
        "  for cell in notebook.cells:\n",
        "      if cell.cell_type == 'code':\n",
        "          exec(cell.source)"
      ],
      "metadata": {
        "colab": {
          "base_uri": "https://localhost:8080/"
        },
        "id": "0GMw8_fEXOEX",
        "outputId": "523f8407-b6ba-44c5-9436-a36c3073d5d3"
      },
      "execution_count": null,
      "outputs": [
        {
          "output_type": "stream",
          "name": "stdout",
          "text": [
            "Successfully installed requests\n",
            "Successfully installed requests\n",
            "Successfully installed PyGitHub\n",
            "Successfully installed pandas\n",
            "Successfully installed requests\n"
          ]
        }
      ]
    },
    {
      "cell_type": "markdown",
      "source": [
        "# Fixed Table Update"
      ],
      "metadata": {
        "id": "elfdfQo4VQ_5"
      }
    },
    {
      "cell_type": "code",
      "source": [
        "list_urls=get_file_content('data/list_all_urls.txt')\n",
        "list_player_names=get_file_content('data/list_all_players_names.txt')\n",
        "fixed_table=get_file_content('data/df_player_fixed.csv')\n",
        "\n",
        "url_ranking='https://www.atptour.com/en/rankings/singles?rankRange=1-200'\n",
        "\n",
        "list_player_names_new,list_urls_new=players_from_url(url_ranking)\n",
        "list_player_names_new=[k for k in list_player_names_new if k not in list_player_names]\n",
        "list_urls_new=[k for k in list_urls_new if k not in list_urls]\n",
        "\n",
        "print(len(list_urls_new),len(list_player_names_new))\n",
        "\n",
        "df_new=create_new_fixed_table('', list_player_names_new, list_urls_new)"
      ],
      "metadata": {
        "colab": {
          "base_uri": "https://localhost:8080/"
        },
        "id": "xbf1S32ouBJy",
        "outputId": "ff937deb-2785-4f9b-82c3-48054a9e399d"
      },
      "execution_count": null,
      "outputs": [
        {
          "output_type": "stream",
          "name": "stdout",
          "text": [
            "0 0\n"
          ]
        }
      ]
    },
    {
      "cell_type": "code",
      "source": [
        "import pandas as pd\n",
        "\n",
        "df_fixed_all=pd.concat([fixed_table,df_new])\n",
        "list_player_names_all=list_player_names_new+list_player_names\n",
        "list_urls_all=list_urls_new+list_urls\n",
        "\n",
        "add_file_github('data/list_all_urls.txt',str(list_urls_all))\n",
        "add_file_github('data/list_all_players_names.txt',str(list_player_names_all))\n",
        "add_file_github('data/df_player_fixed.csv',df_fixed_all.to_csv(index=False))\n"
      ],
      "metadata": {
        "id": "Eq5mM_NOg1gU"
      },
      "execution_count": null,
      "outputs": []
    }
  ]
}